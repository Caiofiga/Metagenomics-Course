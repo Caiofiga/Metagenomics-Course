{
 "cells": [
  {
   "cell_type": "code",
   "execution_count": 13,
   "id": "778e719f",
   "metadata": {},
   "outputs": [
    {
     "name": "stdout",
     "output_type": "stream",
     "text": [
      "WARNING: The MAMBA_ROOT_PREFIX environment variable is not set.\n",
      "WARNING: This is required for mamba to work correctly as of 2.0.\n",
      "WARNING: \n",
      "WARNING: For now, we are setting 'MAMBA_ROOT_PREFIX' to '/usr'.\n",
      "WARNING: \n",
      "WARNING: Please make sure this is consistent with your installation or alternatively (by order of preference):\n",
      "WARNING:   - rerun 'mamba shell init' to initialize mamba for your current shell\n",
      "WARNING:   - manually set 'MAMBA_ROOT_PREFIX' to the root of your installation in your shell profile script.\n",
      "WARNING:   - use the '-r,--root-prefix' CLI option when calling mamba.\n",
      "WARNING: \n",
      "WARNING: This message originates from /usr/etc/profile.d/mamba.sh\n",
      "\n",
      "Pinned packages:\n",
      "\n",
      "  - python=3.13\n",
      "\n"
     ]
    },
    {
     "name": "stderr",
     "output_type": "stream",
     "text": [
      "error    libmamba Could not create directory '/usr/pkgs': Permission denied\n"
     ]
    },
    {
     "name": "stdout",
     "output_type": "stream",
     "text": [
      "\n",
      "Transaction\n",
      "\n",
      "  Prefix: /home/figa/Documents/Programming/VSCode/Metagenomics-Course/env\n",
      "\n",
      "  Updating specs:\n",
      "\n",
      "   - fastqc\n",
      "\n",
      "\n",
      "  Package     Version  Build  Channel       Size\n",
      "──────────────────────────────────────────────────\n",
      "  Install:\n",
      "──────────────────────────────────────────────────\n",
      "\n",
      "  + fastqc     0.11.5  1      bioconda      10MB\n",
      "  + java-jdk   8.0.92  1      bioconda     128MB\n",
      "\n",
      "  Summary:\n",
      "\n",
      "  Install: 2 packages\n",
      "\n",
      "  Total download: 138MB\n",
      "\n",
      "──────────────────────────────────────────────────\n",
      "\n",
      "\n",
      "Confirm changes: [Y/n] \n",
      "Transaction starting\n",
      "Linking java-jdk-8.0.92-1\n",
      "Linking fastqc-0.11.5-1\n",
      "\n",
      "Transaction finished\n",
      "\n"
     ]
    }
   ],
   "source": [
    "%%bash\n",
    "cd ..\n",
    "source ./activateEnv.sh\n",
    "mamba install -c bioconda fastqc"
   ]
  },
  {
   "cell_type": "code",
   "execution_count": 18,
   "id": "c323866d",
   "metadata": {},
   "outputs": [
    {
     "name": "stdout",
     "output_type": "stream",
     "text": [
      "Top hit for YP_009724390.1: surface glycoprotein [Severe acute respiratory syndrome coronavirus 2], e-value 0.0\n"
     ]
    }
   ],
   "source": [
    "from Bio import SeqIO\n",
    "from Bio.Blast import NCBIWWW, NCBIXML\n",
    "\n",
    "for rec in SeqIO.parse(\"sequencia-proteina-misteriosa-caso3.fasta\", \"fasta\"):\n",
    "    # Yes, you can BLAST this sequence using Biopython's NCBIWWW.qblast\n",
    "    result_handle = NCBIWWW.qblast(\"blastp\", \"nr\", rec.seq)\n",
    "    # You can save the results to a file if needed\n",
    "    with open(\"blast_result.xml\", \"w\") as out_handle:\n",
    "        out_handle.write(result_handle.read())\n",
    "        \n",
    "    # parse top hit from the XML (if present)\n",
    "    with open(\"blast_result.xml\") as fh:\n",
    "        try:\n",
    "            blast_record = NCBIXML.read(fh)\n",
    "            if blast_record.alignments:\n",
    "                top = blast_record.alignments[0].hsps[0]\n",
    "                print(f\"Top hit for {rec.id}: {blast_record.alignments[0].hit_def}, e-value {top.expect}\")\n",
    "            else:\n",
    "                print(f\"No hits for {rec.id}\")\n",
    "        except Exception as e:\n",
    "            print(\"Failed to parse BLAST XML:\", e)\n",
    "\n"
   ]
  },
  {
   "cell_type": "markdown",
   "id": "503df070",
   "metadata": {},
   "source": [
    "e-value: probabilidade que os alinhamentos sao sorte ( menor = melhor)\n",
    "Manualmente: Pegar o .fasta e mandar pro blast, ele retorna a tabela"
   ]
  }
 ],
 "metadata": {
  "kernelspec": {
   "display_name": "env",
   "language": "python",
   "name": "python3"
  },
  "language_info": {
   "codemirror_mode": {
    "name": "ipython",
    "version": 3
   },
   "file_extension": ".py",
   "mimetype": "text/x-python",
   "name": "python",
   "nbconvert_exporter": "python",
   "pygments_lexer": "ipython3",
   "version": "3.13.7"
  }
 },
 "nbformat": 4,
 "nbformat_minor": 5
}
