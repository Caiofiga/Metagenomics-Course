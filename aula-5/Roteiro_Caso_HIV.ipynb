{
  "cells": [
    {
      "cell_type": "markdown",
      "metadata": {
        "id": "TWZgol8BGeIU"
      },
      "source": [
        "# 0. Configuração de Ambiente **padrão**"
      ]
    },
    {
      "cell_type": "code",
      "execution_count": null,
      "metadata": {
        "colab": {
          "base_uri": "https://localhost:8080/"
        },
        "collapsed": true,
        "id": "7AAbue9bEe0m",
        "outputId": "201df007-c891-4a73-e1cd-d602a0eed2fa"
      },
      "outputs": [
        {
          "name": "stdout",
          "output_type": "stream",
          "text": [
            "Python 3.10.18\n",
            "WARNING: The MAMBA_ROOT_PREFIX environment variable is not set.\n",
            "WARNING: This is required for mamba to work correctly as of 2.0.\n",
            "WARNING: \n",
            "WARNING: For now, we are setting 'MAMBA_ROOT_PREFIX' to '/usr'.\n",
            "WARNING: \n",
            "WARNING: Please make sure this is consistent with your installation or alternatively (by order of preference):\n",
            "WARNING:   - rerun 'mamba shell init' to initialize mamba for your current shell\n",
            "WARNING:   - manually set 'MAMBA_ROOT_PREFIX' to the root of your installation in your shell profile script.\n",
            "WARNING:   - use the '-r,--root-prefix' CLI option when calling mamba.\n",
            "WARNING: \n",
            "WARNING: This message originates from /usr/etc/profile.d/mamba.sh\n"
          ]
        }
      ],
      "source": [
        "%%bash\n",
        "cd .. \n",
        "source ./activateEnv.sh"
      ]
    },
    {
      "cell_type": "code",
      "execution_count": 17,
      "metadata": {
        "colab": {
          "base_uri": "https://localhost:8080/"
        },
        "collapsed": true,
        "id": "6o9JEhp6F0JD",
        "outputId": "61c017f1-41a6-44c8-a6e9-e4ce783c2260"
      },
      "outputs": [
        {
          "name": "stdout",
          "output_type": "stream",
          "text": [
            "bioconda/linux-64                                           Using cache\n",
            "bioconda/noarch                                             Using cache\n",
            "conda-forge/linux-64                                        Using cache\n",
            "conda-forge/noarch                                          Using cache\n",
            "\n",
            "Pinned packages:\n",
            "\n",
            "  - python=3.10\n",
            "\n"
          ]
        },
        {
          "name": "stderr",
          "output_type": "stream",
          "text": [
            "error    libmamba Could not create directory '/usr/pkgs': Permission denied\n"
          ]
        },
        {
          "name": "stdout",
          "output_type": "stream",
          "text": [
            "\n",
            "Transaction\n",
            "\n",
            "  Prefix: /home/figa/Documents/Programming/VSCode/Metagenomics-Course/env\n",
            "\n",
            "  Updating specs:\n",
            "\n",
            "   - openjdk=21\n",
            "   - fastqc\n",
            "   - snpeff\n",
            "   - bwa\n",
            "   - freebayes\n",
            "   - cutadapt\n",
            "   - samtools\n",
            "   - bedtools\n",
            "\n",
            "\n",
            "  Package    Version  Build       Channel           Size\n",
            "──────────────���────────────────────────────────��──────────\n",
            "  Upgrade:\n",
            "────────────────────────────────────────────────────���─────\n",
            "\n",
            "  - openjdk  11.0.27  h5ddf6bc_0  conda-forge     Cached\n",
            "  + openjdk   21.0.8  ha48796e_0  conda-forge      182MB\n",
            "\n",
            "  Summary:\n",
            "\n",
            "  Upgrade: 1 packages\n",
            "\n",
            "  Total download: 182MB\n",
            "\n",
            "───────────────────────────────────���──────────────────────\n",
            "\n",
            "\n",
            "\n",
            "Transaction starting\n",
            "Unlinking openjdk-11.0.27-h5ddf6bc_0\n",
            "Linking openjdk-21.0.8-ha48796e_0\n",
            "\n",
            "Transaction finished\n",
            "\n"
          ]
        }
      ],
      "source": [
        "%%bash\n",
        "# Instalar os software que vamos usar nesta prática\n",
        "mamba install -c bioconda -c conda-forge openjdk=21 fastqc snpeff bwa freebayes cutadapt samtools bedtools -y"
      ]
    },
    {
      "cell_type": "code",
      "execution_count": 5,
      "metadata": {
        "colab": {
          "base_uri": "https://localhost:8080/"
        },
        "id": "XuQiIitLbJ5m",
        "outputId": "0c62b125-a706-4fb5-a465-1431c8b79f2e"
      },
      "outputs": [
        {
          "name": "stdout",
          "output_type": "stream",
          "text": [
            "\n",
            "            FastQC - A high throughput sequence QC analysis tool\n",
            "\n",
            "SYNOPSIS\n",
            "\n",
            "\tfastqc seqfile1 seqfile2 .. seqfileN\n",
            "\n",
            "    fastqc [-o output dir] [--(no)extract] [-f fastq|bam|sam] \n",
            "           [-c contaminant file] seqfile1 .. seqfileN\n",
            "\n",
            "DESCRIPTION\n",
            "\n",
            "    FastQC reads a set of sequence files and produces from each one a quality\n",
            "    control report consisting of a number of different modules, each one of \n",
            "    which will help to identify a different potential type of problem in your\n",
            "    data.\n",
            "    \n",
            "    If no files to process are specified on the command line then the program\n",
            "    will start as an interactive graphical application.  If files are provided\n",
            "    on the command line then the program will run with no user interaction\n",
            "    required.  In this mode it is suitable for inclusion into a standardised\n",
            "    analysis pipeline.\n",
            "    \n",
            "    The options for the program as as follows:\n",
            "    \n",
            "    -h --help       Print this help file and exit\n",
            "    \n",
            "    -v --version    Print the version of the program and exit\n",
            "    \n",
            "    -o --outdir     Create all output files in the specified output directory.\n",
            "                    Please note that this directory must exist as the program\n",
            "                    will not create it.  If this option is not set then the \n",
            "                    output file for each sequence file is created in the same\n",
            "                    directory as the sequence file which was processed.\n",
            "                    \n",
            "    --casava        Files come from raw casava output. Files in the same sample\n",
            "                    group (differing only by the group number) will be analysed\n",
            "                    as a set rather than individually. Sequences with the filter\n",
            "                    flag set in the header will be excluded from the analysis.\n",
            "                    Files must have the same names given to them by casava\n",
            "                    (including being gzipped and ending with .gz) otherwise they\n",
            "                    won't be grouped together correctly.\n",
            "                    \n",
            "    --nano          Files come from nanopore sequences and are in fast5 format. In\n",
            "                    this mode you can pass in directories to process and the program\n",
            "                    will take in all fast5 files within those directories and produce\n",
            "                    a single output file from the sequences found in all files.                    \n",
            "                    \n",
            "    --nofilter      If running with --casava then don't remove read flagged by\n",
            "                    casava as poor quality when performing the QC analysis.\n",
            "                   \n",
            "    --extract       If set then the zipped output file will be uncompressed in\n",
            "                    the same directory after it has been created. If --delete is \n",
            "                    also specified then the zip file will be removed after the \n",
            "                    contents are unzipped. \n",
            "                    \n",
            "    -j --java       Provides the full path to the java binary you want to use to\n",
            "                    launch fastqc. If not supplied then java is assumed to be in\n",
            "                    your path.\n",
            "                   \n",
            "    --noextract     Do not uncompress the output file after creating it.  You\n",
            "                    should set this option if you do not wish to uncompress\n",
            "                    the output when running in non-interactive mode.\n",
            "                    \n",
            "    --nogroup       Disable grouping of bases for reads >50bp. All reports will\n",
            "                    show data for every base in the read.  WARNING: Using this\n",
            "                    option will cause fastqc to crash and burn if you use it on\n",
            "                    really long reads, and your plots may end up a ridiculous size.\n",
            "                    You have been warned!\n",
            "                    \n",
            "    --min_length    Sets an artificial lower limit on the length of the sequence\n",
            "                    to be shown in the report.  As long as you set this to a value\n",
            "                    greater or equal to your longest read length then this will be\n",
            "                    the sequence length used to create your read groups.  This can\n",
            "                    be useful for making directly comaparable statistics from \n",
            "                    datasets with somewhat variable read lengths.\n",
            "\n",
            "    --dup_length    Sets a length to which the sequences will be truncated when \n",
            "                    defining them to be duplicates, affecting the duplication and\n",
            "                    overrepresented sequences plot.  This can be useful if you have\n",
            "                    long reads with higher levels of miscalls, or contamination with\n",
            "                    adapter dimers containing UMI sequences.\n",
            "\n",
            "                    \n",
            "    -f --format     Bypasses the normal sequence file format detection and\n",
            "                    forces the program to use the specified format.  Valid\n",
            "                    formats are bam,sam,bam_mapped,sam_mapped and fastq\n",
            "                    \n",
            "\n",
            "    --memory        Sets the base amount of memory, in Megabytes, used to process \n",
            "                    each file.  Defaults to 512MB.  You may need to increase this if\n",
            "                    you have a file with very long sequences in it.\n",
            "                \n",
            "    --svg           Save the graphs in the report in SVG format.\n",
            "\n",
            "    -t --threads    Specifies the number of files which can be processed\n",
            "                    simultaneously.  Each thread will be allocated 250MB of\n",
            "                    memory so you shouldn't run more threads than your\n",
            "                    available memory will cope with, and not more than\n",
            "                    6 threads on a 32 bit machine\n",
            "                  \n",
            "    -c              Specifies a non-default file which contains the list of\n",
            "    --contaminants  contaminants to screen overrepresented sequences against.\n",
            "                    The file must contain sets of named contaminants in the\n",
            "                    form name[tab]sequence.  Lines prefixed with a hash will\n",
            "                    be ignored.\n",
            "\n",
            "    -a              Specifies a non-default file which contains the list of\n",
            "    --adapters      adapter sequences which will be explicity searched against\n",
            "                    the library. The file must contain sets of named adapters\n",
            "                    in the form name[tab]sequence.  Lines prefixed with a hash\n",
            "                    will be ignored.\n",
            "                    \n",
            "    -l              Specifies a non-default file which contains a set of criteria\n",
            "    --limits        which will be used to determine the warn/error limits for the\n",
            "                    various modules.  This file can also be used to selectively \n",
            "                    remove some modules from the output all together.  The format\n",
            "                    needs to mirror the default limits.txt file found in the\n",
            "                    Configuration folder.\n",
            "                    \n",
            "   -k --kmers       Specifies the length of Kmer to look for in the Kmer content\n",
            "                    module. Specified Kmer length must be between 2 and 10. Default\n",
            "                    length is 7 if not specified.\n",
            "                    \n",
            "   -q --quiet       Suppress all progress messages on stdout and only report errors.\n",
            "   \n",
            "   -d --dir         Selects a directory to be used for temporary files written when\n",
            "                    generating report images. Defaults to system temp directory if\n",
            "                    not specified.\n",
            "                    \n",
            "BUGS\n",
            "\n",
            "    Any bugs in fastqc should be reported either to simon.andrews@babraham.ac.uk\n",
            "    or in www.bioinformatics.babraham.ac.uk/bugzilla/\n",
            "                   \n",
            "    \n"
          ]
        }
      ],
      "source": [
        "%%bash\n",
        "fastqc --help"
      ]
    },
    {
      "cell_type": "code",
      "execution_count": 6,
      "metadata": {
        "id": "t9MWHnkWgwWz"
      },
      "outputs": [],
      "source": [
        "%%bash\n",
        "# Criar as pastas para organizar os arquivos que serão gerados\n",
        "mkdir fastqc cutadapt bwa freebayes sierra bedtools snpeff"
      ]
    },
    {
      "cell_type": "code",
      "execution_count": 7,
      "metadata": {
        "id": "Cq1XwMgQywR_"
      },
      "outputs": [],
      "source": [
        "%%bash\n",
        "mv reference-HXB2.fasta bwa/\n",
        "mv HXB2_genes.bed bedtools/\n",
        "mv HXB2.1.zip snpeff/"
      ]
    },
    {
      "cell_type": "markdown",
      "metadata": {
        "id": "M3Qa1e89yRrL"
      },
      "source": [
        "**Checkpoint 1:**  \n",
        "Antes de seguir, verifique se as pastas foram criadas. Os arquivos fastqs dos pacientes 1 e 2 devem estar fora da pasta (4 arquivos), o arquivo fasta da referência deve estar dentro da pasta bwa/ e o arquivo bed deve estar dentro de bedtools/. Execute o código abaixo para mover o arquivo reference.fasta para a pasta correta."
      ]
    },
    {
      "cell_type": "markdown",
      "metadata": {
        "id": "HbFjonTRGvxV"
      },
      "source": [
        "# 1. Controle de Qualidade"
      ]
    },
    {
      "cell_type": "markdown",
      "metadata": {
        "id": "lumjEidNzQJE"
      },
      "source": [
        "A partir de agora, serão realizados todos os comandos para o ```patient1```. Ao terminar, você precisará fazer o mesmo para o ```patient2```."
      ]
    },
    {
      "cell_type": "code",
      "execution_count": 8,
      "metadata": {
        "colab": {
          "base_uri": "https://localhost:8080/"
        },
        "id": "bwZ6imuMZesX",
        "outputId": "45879c67-8aa0-4d32-861b-a9f95808bb7e"
      },
      "outputs": [
        {
          "name": "stdout",
          "output_type": "stream",
          "text": [
            "application/gzip\n",
            "application/gzip\n"
          ]
        },
        {
          "name": "stderr",
          "output_type": "stream",
          "text": [
            "Started analysis of patient1_R1.fastq.gz\n",
            "Approx 5% complete for patient1_R1.fastq.gz\n",
            "Approx 10% complete for patient1_R1.fastq.gz\n",
            "Approx 15% complete for patient1_R1.fastq.gz\n",
            "Approx 20% complete for patient1_R1.fastq.gz\n",
            "Approx 25% complete for patient1_R1.fastq.gz\n",
            "Approx 30% complete for patient1_R1.fastq.gz\n",
            "Approx 35% complete for patient1_R1.fastq.gz\n",
            "Approx 40% complete for patient1_R1.fastq.gz\n",
            "Approx 45% complete for patient1_R1.fastq.gz\n",
            "Approx 50% complete for patient1_R1.fastq.gz\n",
            "Approx 55% complete for patient1_R1.fastq.gz\n",
            "Approx 60% complete for patient1_R1.fastq.gz\n",
            "Approx 65% complete for patient1_R1.fastq.gz\n",
            "Approx 70% complete for patient1_R1.fastq.gz\n",
            "Approx 75% complete for patient1_R1.fastq.gz\n",
            "Approx 80% complete for patient1_R1.fastq.gz\n",
            "Approx 85% complete for patient1_R1.fastq.gz\n",
            "Approx 90% complete for patient1_R1.fastq.gz\n",
            "Approx 95% complete for patient1_R1.fastq.gz\n",
            "Approx 100% complete for patient1_R1.fastq.gz\n"
          ]
        },
        {
          "name": "stdout",
          "output_type": "stream",
          "text": [
            "Analysis complete for patient1_R1.fastq.gz\n"
          ]
        },
        {
          "name": "stderr",
          "output_type": "stream",
          "text": [
            "Started analysis of patient1_R2.fastq.gz\n",
            "Approx 5% complete for patient1_R2.fastq.gz\n",
            "Approx 10% complete for patient1_R2.fastq.gz\n",
            "Approx 15% complete for patient1_R2.fastq.gz\n",
            "Approx 20% complete for patient1_R2.fastq.gz\n",
            "Approx 25% complete for patient1_R2.fastq.gz\n",
            "Approx 30% complete for patient1_R2.fastq.gz\n",
            "Approx 35% complete for patient1_R2.fastq.gz\n",
            "Approx 40% complete for patient1_R2.fastq.gz\n",
            "Approx 45% complete for patient1_R2.fastq.gz\n",
            "Approx 50% complete for patient1_R2.fastq.gz\n",
            "Approx 55% complete for patient1_R2.fastq.gz\n",
            "Approx 60% complete for patient1_R2.fastq.gz\n",
            "Approx 65% complete for patient1_R2.fastq.gz\n",
            "Approx 70% complete for patient1_R2.fastq.gz\n",
            "Approx 75% complete for patient1_R2.fastq.gz\n",
            "Approx 80% complete for patient1_R2.fastq.gz\n",
            "Approx 85% complete for patient1_R2.fastq.gz\n",
            "Approx 90% complete for patient1_R2.fastq.gz\n",
            "Approx 95% complete for patient1_R2.fastq.gz\n",
            "Approx 100% complete for patient1_R2.fastq.gz\n"
          ]
        },
        {
          "name": "stdout",
          "output_type": "stream",
          "text": [
            "Analysis complete for patient1_R2.fastq.gz\n"
          ]
        }
      ],
      "source": [
        "%%bash\n",
        "# Gerar o relatório da qualidade dos reads de sequenciamento\n",
        "fastqc -o fastqc/ patient1_R1.fastq.gz patient1_R2.fastq.gz"
      ]
    },
    {
      "cell_type": "code",
      "execution_count": 9,
      "metadata": {
        "colab": {
          "base_uri": "https://localhost:8080/"
        },
        "id": "t_JPX-mNF0AS",
        "outputId": "35506a12-9780-4cde-977c-e65a0cb94b06"
      },
      "outputs": [
        {
          "name": "stdout",
          "output_type": "stream",
          "text": [
            "This is cutadapt 5.1 with Python 3.10.18\n",
            "Command line parameters: -u 5 -U 5 -u -5 -U -5 -m 90 -o cutadapt/patient1-trimmed_R1.fastq.gz -p cutadapt/patient1-trimmed_R2.fastq.gz patient1_R1.fastq.gz patient1_R2.fastq.gz\n",
            "Processing paired-end reads on 1 core ...\n",
            "\n",
            "=== Summary ===\n",
            "\n",
            "Total read pairs processed:            100,000\n",
            "\n",
            "== Read fate breakdown ==\n",
            "Pairs that were too short:                   0 (0.0%)\n",
            "Pairs written (passing filters):       100,000 (100.0%)\n",
            "\n",
            "Total basepairs processed:    29,995,442 bp\n",
            "  Read 1:    14,996,808 bp\n",
            "  Read 2:    14,998,634 bp\n",
            "Total written (filtered):     27,995,442 bp (93.3%)\n",
            "  Read 1:    13,996,808 bp\n",
            "  Read 2:    13,998,634 bp\n"
          ]
        }
      ],
      "source": [
        "%%bash\n",
        "# Filtrar sequências muito pequenas e cortar as pontas\n",
        "cutadapt \\\n",
        "  -u 5 -U 5 \\\n",
        "  -u -5 -U -5 \\\n",
        "  -m 90 \\\n",
        "  -o cutadapt/patient1-trimmed_R1.fastq.gz \\\n",
        "  -p cutadapt/patient1-trimmed_R2.fastq.gz \\\n",
        "  patient1_R1.fastq.gz \\\n",
        "  patient1_R2.fastq.gz"
      ]
    },
    {
      "cell_type": "markdown",
      "metadata": {
        "id": "BM8nNpY300ut"
      },
      "source": [
        "# 2. Alinhamento"
      ]
    },
    {
      "cell_type": "code",
      "execution_count": 10,
      "metadata": {
        "colab": {
          "base_uri": "https://localhost:8080/"
        },
        "id": "JMy4lg1tcIjd",
        "outputId": "8720b3eb-c33e-4c84-cd7b-482f39bb78bf"
      },
      "outputs": [
        {
          "name": "stderr",
          "output_type": "stream",
          "text": [
            "[bwa_index] Pack FASTA... 0.00 sec\n",
            "[bwa_index] Construct BWT for the packed sequence...\n",
            "[bwa_index] 0.00 seconds elapse.\n",
            "[bwa_index] Update BWT... 0.00 sec\n",
            "[bwa_index] Pack forward-only FASTA... 0.00 sec\n",
            "[bwa_index] Construct SA from BWT and Occ... 0.00 sec\n",
            "[main] Version: 0.7.19-r1273\n",
            "[main] CMD: bwa index bwa/reference-HXB2.fasta\n",
            "[main] Real time: 0.031 sec; CPU: 0.004 sec\n"
          ]
        }
      ],
      "source": [
        "%%bash\n",
        "# Prepara o genoma de referência para realizar o alinhamento\n",
        "bwa index bwa/reference-HXB2.fasta"
      ]
    },
    {
      "cell_type": "code",
      "execution_count": 11,
      "metadata": {
        "colab": {
          "base_uri": "https://localhost:8080/"
        },
        "id": "AO_2gLXCcIZe",
        "outputId": "1545caf7-1343-4775-d584-e296ed3e9ce2"
      },
      "outputs": [
        {
          "name": "stderr",
          "output_type": "stream",
          "text": [
            "[M::bwa_idx_load_from_disk] read 0 ALT contigs\n",
            "[M::process] read 71456 sequences (10000202 bp)...\n",
            "[M::process] read 71444 sequences (10000242 bp)...\n",
            "[M::mem_pestat] # candidate unique pairs for (FF, FR, RF, RR): (0, 29901, 0, 0)\n",
            "[M::mem_pestat] skip orientation FF as there are not enough pairs\n",
            "[M::mem_pestat] analyzing insert size distribution for orientation FR...\n",
            "[M::mem_pestat] (25, 50, 75) percentile: (282, 296, 309)\n",
            "[M::mem_pestat] low and high boundaries for computing mean and std.dev: (228, 363)\n",
            "[M::mem_pestat] mean and std.dev: (296.40, 21.96)\n",
            "[M::mem_pestat] low and high boundaries for proper pairs: (201, 390)\n",
            "[M::mem_pestat] skip orientation RF as there are not enough pairs\n",
            "[M::mem_pestat] skip orientation RR as there are not enough pairs\n",
            "[M::mem_process_seqs] Processed 71456 reads in 3.424 CPU sec, 3.348 real sec\n",
            "[M::process] read 57100 sequences (7994998 bp)...\n",
            "[M::mem_pestat] # candidate unique pairs for (FF, FR, RF, RR): (0, 29893, 0, 0)\n",
            "[M::mem_pestat] skip orientation FF as there are not enough pairs\n",
            "[M::mem_pestat] analyzing insert size distribution for orientation FR...\n",
            "[M::mem_pestat] (25, 50, 75) percentile: (282, 296, 310)\n",
            "[M::mem_pestat] low and high boundaries for computing mean and std.dev: (226, 366)\n",
            "[M::mem_pestat] mean and std.dev: (296.39, 22.66)\n",
            "[M::mem_pestat] low and high boundaries for proper pairs: (198, 394)\n",
            "[M::mem_pestat] skip orientation RF as there are not enough pairs\n",
            "[M::mem_pestat] skip orientation RR as there are not enough pairs\n",
            "[M::mem_process_seqs] Processed 71444 reads in 3.370 CPU sec, 3.303 real sec\n",
            "[M::mem_pestat] # candidate unique pairs for (FF, FR, RF, RR): (0, 23922, 1, 0)\n",
            "[M::mem_pestat] skip orientation FF as there are not enough pairs\n",
            "[M::mem_pestat] analyzing insert size distribution for orientation FR...\n",
            "[M::mem_pestat] (25, 50, 75) percentile: (282, 296, 310)\n",
            "[M::mem_pestat] low and high boundaries for computing mean and std.dev: (226, 366)\n",
            "[M::mem_pestat] mean and std.dev: (296.37, 22.60)\n",
            "[M::mem_pestat] low and high boundaries for proper pairs: (198, 394)\n",
            "[M::mem_pestat] skip orientation RF as there are not enough pairs\n",
            "[M::mem_pestat] skip orientation RR as there are not enough pairs\n",
            "[M::mem_process_seqs] Processed 57100 reads in 2.666 CPU sec, 2.657 real sec\n",
            "[main] Version: 0.7.19-r1273\n",
            "[main] CMD: bwa mem bwa/reference-HXB2.fasta cutadapt/patient1-trimmed_R1.fastq.gz cutadapt/patient1-trimmed_R2.fastq.gz\n",
            "[main] Real time: 9.423 sec; CPU: 9.572 sec\n"
          ]
        }
      ],
      "source": [
        "%%bash\n",
        "# Fazer o alinhamento das sequências limpas contra o genoma de referência\n",
        "bwa mem bwa/reference-HXB2.fasta cutadapt/patient1-trimmed_R1.fastq.gz \\\n",
        "cutadapt/patient1-trimmed_R2.fastq.gz \\\n",
        "| samtools sort -o bwa/patient1.bam"
      ]
    },
    {
      "cell_type": "code",
      "execution_count": 12,
      "metadata": {
        "id": "mRDvL8R8PsOD"
      },
      "outputs": [],
      "source": [
        "%%bash\n",
        "# Gera o index BAI necessário para visualizar no IGV\n",
        "samtools index bwa/patient1.bam"
      ]
    },
    {
      "cell_type": "markdown",
      "metadata": {
        "id": "H209G3jV04iX"
      },
      "source": [
        "# 3. Chamada de Variantes"
      ]
    },
    {
      "cell_type": "code",
      "execution_count": 13,
      "metadata": {
        "colab": {
          "base_uri": "https://localhost:8080/"
        },
        "id": "0O3PzPfeeJnE",
        "outputId": "3a3914cc-ff1c-407f-eeec-51f2ec71f44e"
      },
      "outputs": [
        {
          "name": "stderr",
          "output_type": "stream",
          "text": [
            "index file bwa/reference-HXB2.fasta.fai not found, generating...\n"
          ]
        }
      ],
      "source": [
        "%%bash\n",
        "# Chamada de variantes (diferenças entre o genoma de referência e a amostra do paciente)\n",
        "freebayes -f bwa/reference-HXB2.fasta -p 1 bwa/patient1.bam -v freebayes/patient1-variants.vcf"
      ]
    },
    {
      "cell_type": "markdown",
      "metadata": {
        "id": "Uhyt9Mx7GMjO"
      },
      "source": [
        "# 4. Métricas de cobertura por gene"
      ]
    },
    {
      "cell_type": "code",
      "execution_count": 14,
      "metadata": {
        "id": "8iPxneqtGMPu"
      },
      "outputs": [],
      "source": [
        "%%bash\n",
        "# Gerar cobertura por genes com base em um arquivo BED\n",
        "bedtools coverage -a bedtools/HXB2_genes.bed -b bwa/patient1.bam > bedtools/gene_coverage.txt"
      ]
    },
    {
      "cell_type": "markdown",
      "metadata": {
        "id": "AT5RbFGAKzvR"
      },
      "source": [
        "**Checkpoint 2:**   \n",
        "Aqui é um momento importante para vocês olharem os resultados que obtiveram com cuidado.  \n",
        "1. Olhando para o arquivo de coberturas gerado, note que ele apresenta várias colunas. Como saber o significado de cada uma?\n",
        "\n",
        "2. Se ainda não tiver o software IGV instalado, faça o download e instale neste [link](https://igv.org/doc/desktop/#DownloadPage/) (Faça o download da versão para o seu computador e com java incluso).\n",
        "\n",
        "3. O IGV é um visualizador genômico de alinhamentos, que normalmente requer 3 arquivos: FASTA da referência utilizada no alinhamento, BAM do alinhamento e BAI arquivo de indexação do alinhamento. Carregue a referência através do menu *Genome -> Load Genome from File* e o BAM através do menu *Files -> Load from File*. O BAI só precisa estar na mesma pasta do BAM.  \n",
        "Descreva o que você vê:\n",
        "\n",
        "4. Ainda no IGV, é possível carregar também o arquivo BED com os intervalos de genes, para conseguir visualizá-lo melhor. Apenas arraste o arquivo `HXB2_genes.bed` para o IGV ou vá para *Files -> Load from File*.  \n",
        "\n",
        "Pergunta: Você consegue visualizar as mutações em um determinado gene, por exemplo na Protease? Dá para saber que tipo de mutação e o que ela ocaciona na proteina?\n",
        "\n",
        "\n",
        "\n"
      ]
    },
    {
      "cell_type": "markdown",
      "metadata": {},
      "source": [
        "R: Sim, o IGV mostra as mutacoes por track, se ela estiver em todos os tracks, eh confirmada"
      ]
    },
    {
      "cell_type": "markdown",
      "metadata": {
        "id": "V666-lUwTS65"
      },
      "source": [
        "# 5. Anotação das variantes"
      ]
    },
    {
      "cell_type": "code",
      "execution_count": 15,
      "metadata": {
        "id": "7mJ0pAaEgyE7"
      },
      "outputs": [
        {
          "name": "stdout",
          "output_type": "stream",
          "text": [
            "Archive:  snpeff/HXB2.1.zip\n",
            "   creating: HXB2.1/\n",
            "  inflating: __MACOSX/._HXB2.1       \n",
            "  inflating: HXB2.1/sequence.bin     \n",
            "  inflating: __MACOSX/HXB2.1/._sequence.bin  \n",
            "  inflating: HXB2.1/.DS_Store        \n",
            "  inflating: __MACOSX/HXB2.1/._.DS_Store  \n",
            "  inflating: HXB2.1/snpEff.config    \n",
            "  inflating: __MACOSX/HXB2.1/._snpEff.config  \n",
            "  inflating: HXB2.1/genes.gbk        \n",
            "  inflating: __MACOSX/HXB2.1/._genes.gbk  \n",
            "  inflating: HXB2.1/snpEffectPredictor.bin  \n",
            "  inflating: __MACOSX/HXB2.1/._snpEffectPredictor.bin  \n"
          ]
        }
      ],
      "source": [
        "%%bash\n",
        "unzip snpeff/HXB2.1.zip"
      ]
    },
    {
      "cell_type": "code",
      "execution_count": null,
      "metadata": {
        "id": "nEkO2HJJU7jt"
      },
      "outputs": [
        {
          "name": "stderr",
          "output_type": "stream",
          "text": [
            "java.lang.RuntimeException: Cannot find config file 'HXB2.1/snpEff.config'\n",
            "\n",
            "\tat org.snpeff.snpEffect.Config.findConfigFile(Config.java:276)\n",
            "\tat org.snpeff.snpEffect.Config.init(Config.java:594)\n",
            "\tat org.snpeff.snpEffect.Config.<init>(Config.java:125)\n",
            "\tat org.snpeff.SnpEff.loadConfig(SnpEff.java:451)\n",
            "\tat org.snpeff.snpEffect.commandLine.SnpEffCmdEff.run(SnpEffCmdEff.java:858)\n",
            "\tat org.snpeff.snpEffect.commandLine.SnpEffCmdEff.run(SnpEffCmdEff.java:844)\n",
            "\tat org.snpeff.SnpEff.run(SnpEff.java:1175)\n",
            "\tat org.snpeff.SnpEff.main(SnpEff.java:164)\n"
          ]
        },
        {
          "ename": "CalledProcessError",
          "evalue": "Command 'b'# Anotar as variantes para saber onde a muta\\xc3\\xa7\\xc3\\xa3o ocorreu e qual seu efeito\\nsnpEff -q -nodownload -hgvs1LetterAa -c HXB2.1/snpEff.config \\\\\\n-dataDir content/ -csvStats snpeff/patient1_annotated_stats.csv \\\\\\n-no-downstream -no-upstream \\\\\\nHXB2.1 freebayes/patient1-variants.vcf > snpeff/patient1_annotated.vcf\\n'' returned non-zero exit status 255.",
          "output_type": "error",
          "traceback": [
            "\u001b[0;31m---------------------------------------------------------------------------\u001b[0m",
            "\u001b[0;31mCalledProcessError\u001b[0m                        Traceback (most recent call last)",
            "Cell \u001b[0;32mIn[47], line 1\u001b[0m\n\u001b[0;32m----> 1\u001b[0m \u001b[43mget_ipython\u001b[49m\u001b[43m(\u001b[49m\u001b[43m)\u001b[49m\u001b[38;5;241;43m.\u001b[39;49m\u001b[43mrun_cell_magic\u001b[49m\u001b[43m(\u001b[49m\u001b[38;5;124;43m'\u001b[39;49m\u001b[38;5;124;43mbash\u001b[39;49m\u001b[38;5;124;43m'\u001b[39;49m\u001b[43m,\u001b[49m\u001b[43m \u001b[49m\u001b[38;5;124;43m'\u001b[39;49m\u001b[38;5;124;43m'\u001b[39;49m\u001b[43m,\u001b[49m\u001b[43m \u001b[49m\u001b[38;5;124;43m'\u001b[39;49m\u001b[38;5;124;43m# Anotar as variantes para saber onde a mutação ocorreu e qual seu efeito\u001b[39;49m\u001b[38;5;130;43;01m\\n\u001b[39;49;00m\u001b[38;5;124;43msnpEff -q -nodownload -hgvs1LetterAa -c HXB2.1/snpEff.config \u001b[39;49m\u001b[38;5;130;43;01m\\\\\u001b[39;49;00m\u001b[38;5;130;43;01m\\n\u001b[39;49;00m\u001b[38;5;124;43m-dataDir content/ -csvStats snpeff/patient1_annotated_stats.csv \u001b[39;49m\u001b[38;5;130;43;01m\\\\\u001b[39;49;00m\u001b[38;5;130;43;01m\\n\u001b[39;49;00m\u001b[38;5;124;43m-no-downstream -no-upstream \u001b[39;49m\u001b[38;5;130;43;01m\\\\\u001b[39;49;00m\u001b[38;5;130;43;01m\\n\u001b[39;49;00m\u001b[38;5;124;43mHXB2.1 freebayes/patient1-variants.vcf > snpeff/patient1_annotated.vcf\u001b[39;49m\u001b[38;5;130;43;01m\\n\u001b[39;49;00m\u001b[38;5;124;43m'\u001b[39;49m\u001b[43m)\u001b[49m\n",
            "File \u001b[0;32m~/Documents/Programming/VSCode/Metagenomics-Course/env/lib/python3.10/site-packages/IPython/core/interactiveshell.py:2543\u001b[0m, in \u001b[0;36mInteractiveShell.run_cell_magic\u001b[0;34m(self, magic_name, line, cell)\u001b[0m\n\u001b[1;32m   2541\u001b[0m \u001b[38;5;28;01mwith\u001b[39;00m \u001b[38;5;28mself\u001b[39m\u001b[38;5;241m.\u001b[39mbuiltin_trap:\n\u001b[1;32m   2542\u001b[0m     args \u001b[38;5;241m=\u001b[39m (magic_arg_s, cell)\n\u001b[0;32m-> 2543\u001b[0m     result \u001b[38;5;241m=\u001b[39m \u001b[43mfn\u001b[49m\u001b[43m(\u001b[49m\u001b[38;5;241;43m*\u001b[39;49m\u001b[43margs\u001b[49m\u001b[43m,\u001b[49m\u001b[43m \u001b[49m\u001b[38;5;241;43m*\u001b[39;49m\u001b[38;5;241;43m*\u001b[39;49m\u001b[43mkwargs\u001b[49m\u001b[43m)\u001b[49m\n\u001b[1;32m   2545\u001b[0m \u001b[38;5;66;03m# The code below prevents the output from being displayed\u001b[39;00m\n\u001b[1;32m   2546\u001b[0m \u001b[38;5;66;03m# when using magics with decorator @output_can_be_silenced\u001b[39;00m\n\u001b[1;32m   2547\u001b[0m \u001b[38;5;66;03m# when the last Python token in the expression is a ';'.\u001b[39;00m\n\u001b[1;32m   2548\u001b[0m \u001b[38;5;28;01mif\u001b[39;00m \u001b[38;5;28mgetattr\u001b[39m(fn, magic\u001b[38;5;241m.\u001b[39mMAGIC_OUTPUT_CAN_BE_SILENCED, \u001b[38;5;28;01mFalse\u001b[39;00m):\n",
            "File \u001b[0;32m~/Documents/Programming/VSCode/Metagenomics-Course/env/lib/python3.10/site-packages/IPython/core/magics/script.py:159\u001b[0m, in \u001b[0;36mScriptMagics._make_script_magic.<locals>.named_script_magic\u001b[0;34m(line, cell)\u001b[0m\n\u001b[1;32m    157\u001b[0m \u001b[38;5;28;01melse\u001b[39;00m:\n\u001b[1;32m    158\u001b[0m     line \u001b[38;5;241m=\u001b[39m script\n\u001b[0;32m--> 159\u001b[0m \u001b[38;5;28;01mreturn\u001b[39;00m \u001b[38;5;28;43mself\u001b[39;49m\u001b[38;5;241;43m.\u001b[39;49m\u001b[43mshebang\u001b[49m\u001b[43m(\u001b[49m\u001b[43mline\u001b[49m\u001b[43m,\u001b[49m\u001b[43m \u001b[49m\u001b[43mcell\u001b[49m\u001b[43m)\u001b[49m\n",
            "File \u001b[0;32m~/Documents/Programming/VSCode/Metagenomics-Course/env/lib/python3.10/site-packages/IPython/core/magics/script.py:336\u001b[0m, in \u001b[0;36mScriptMagics.shebang\u001b[0;34m(self, line, cell)\u001b[0m\n\u001b[1;32m    331\u001b[0m \u001b[38;5;28;01mif\u001b[39;00m args\u001b[38;5;241m.\u001b[39mraise_error \u001b[38;5;129;01mand\u001b[39;00m p\u001b[38;5;241m.\u001b[39mreturncode \u001b[38;5;241m!=\u001b[39m \u001b[38;5;241m0\u001b[39m:\n\u001b[1;32m    332\u001b[0m     \u001b[38;5;66;03m# If we get here and p.returncode is still None, we must have\u001b[39;00m\n\u001b[1;32m    333\u001b[0m     \u001b[38;5;66;03m# killed it but not yet seen its return code. We don't wait for it,\u001b[39;00m\n\u001b[1;32m    334\u001b[0m     \u001b[38;5;66;03m# in case it's stuck in uninterruptible sleep. -9 = SIGKILL\u001b[39;00m\n\u001b[1;32m    335\u001b[0m     rc \u001b[38;5;241m=\u001b[39m p\u001b[38;5;241m.\u001b[39mreturncode \u001b[38;5;129;01mor\u001b[39;00m \u001b[38;5;241m-\u001b[39m\u001b[38;5;241m9\u001b[39m\n\u001b[0;32m--> 336\u001b[0m     \u001b[38;5;28;01mraise\u001b[39;00m CalledProcessError(rc, cell)\n",
            "\u001b[0;31mCalledProcessError\u001b[0m: Command 'b'# Anotar as variantes para saber onde a muta\\xc3\\xa7\\xc3\\xa3o ocorreu e qual seu efeito\\nsnpEff -q -nodownload -hgvs1LetterAa -c HXB2.1/snpEff.config \\\\\\n-dataDir content/ -csvStats snpeff/patient1_annotated_stats.csv \\\\\\n-no-downstream -no-upstream \\\\\\nHXB2.1 freebayes/patient1-variants.vcf > snpeff/patient1_annotated.vcf\\n'' returned non-zero exit status 255."
          ]
        }
      ],
      "source": [
        "%%bash\n",
        "# Anotar as variantes para saber onde a mutação ocorreu e qual seu efeito\n",
        "snpEff -q -nodownload -hgvs1LetterAa -c HXB2.1/content/snpEff.config \\\n",
        "-dataDir content/ -csvStats snpeff/patient1_annotated_stats.csv \\\n",
        "-no-downstream -no-upstream \\\n",
        "HXB2.1 freebayes/patient1-variants.vcf > snpeff/patient1_annotated.vcf"
      ]
    },
    {
      "cell_type": "code",
      "execution_count": 43,
      "metadata": {
        "id": "a3cvwaV0cKFY"
      },
      "outputs": [
        {
          "name": "stdout",
          "output_type": "stream",
          "text": [
            "total 76\n",
            "-rw-rw-r-- 1 figa figa 29845 Jul 26  2024 genes.gbk\n",
            "-rw-r--r-- 1 figa figa  1048 Jul 26  2024 sequence.bin\n",
            "-rw-r--r-- 1 figa figa 35015 Jul 22  2024 snpEff.config\n",
            "-rw-r--r-- 1 figa figa  1314 Jul 26  2024 snpEffectPredictor.bin\n"
          ]
        }
      ],
      "source": [
        "%%bash\n",
        "ls -l ./HXB2.1/content/"
      ]
    },
    {
      "cell_type": "markdown",
      "metadata": {
        "id": "Y0uw6c_tlq7I"
      },
      "source": [
        "**Checkpoint 3**:  \n",
        "Inspecione os arquivos na pasta snpeff/ (patient1-annotated.vcf e patient1_annotated_stats.csv). Veja que principalmente o arquivo .vcf é bastante complexo de entender.  \n",
        "Pergunta: Como você faria para encontrar a mutação que troca um amino ácido T por um amino ácido D na posição 215 da replicase viral? Verifique se esta mutação está presente na amostra do paciente 1. Se estiver, que tipo de mutação e qual o seu efeito?"
      ]
    },
    {
      "cell_type": "markdown",
      "metadata": {
        "id": "QolMxlPtu8uF"
      },
      "source": [
        "# Stanford HIV database"
      ]
    },
    {
      "cell_type": "code",
      "execution_count": null,
      "metadata": {
        "id": "B_8y6_povGTF"
      },
      "outputs": [],
      "source": [
        "%%bash\n",
        "# Extract consensus from bam\n",
        "samtools consensus -f fasta bwa/patient1.bam > sierra/consensus-HIV-patient1.fasta"
      ]
    },
    {
      "cell_type": "markdown",
      "metadata": {
        "id": "1LgLcpv1wIDu"
      },
      "source": [
        "Com o comando acima, nós acabamos de gerar uma montagem do genoma de HIV do paciente1 com base no alinhamento que fizemos. Agora vá para o site do stanford HIVDB e faça o upload da sequência em formato fasta: https://hivdb.stanford.edu/hivdb/by-sequences/"
      ]
    },
    {
      "cell_type": "markdown",
      "metadata": {
        "id": "u5-NEAhRDIlm"
      },
      "source": [
        "**Última pergunta:** Este paciente responderia à primeira linha de tratamento descrita na introdução do artigo do caso?  \n",
        "`Efavirenz + Tenofovir`"
      ]
    }
  ],
  "metadata": {
    "colab": {
      "provenance": []
    },
    "kernelspec": {
      "display_name": "env",
      "language": "python",
      "name": "python3"
    },
    "language_info": {
      "codemirror_mode": {
        "name": "ipython",
        "version": 3
      },
      "file_extension": ".py",
      "mimetype": "text/x-python",
      "name": "python",
      "nbconvert_exporter": "python",
      "pygments_lexer": "ipython3",
      "version": "3.10.18"
    }
  },
  "nbformat": 4,
  "nbformat_minor": 0
}
