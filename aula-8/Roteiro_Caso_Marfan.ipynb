{
  "cells": [
    {
      "cell_type": "code",
      "execution_count": 1,
      "metadata": {},
      "outputs": [
        {
          "name": "stdout",
          "output_type": "stream",
          "text": [
            "WARNING: The MAMBA_ROOT_PREFIX environment variable is not set.\n",
            "WARNING: This is required for mamba to work correctly as of 2.0.\n",
            "WARNING: \n",
            "WARNING: For now, we are setting 'MAMBA_ROOT_PREFIX' to '/usr'.\n",
            "WARNING: \n",
            "WARNING: Please make sure this is consistent with your installation or alternatively (by order of preference):\n",
            "WARNING:   - rerun 'mamba shell init' to initialize mamba for your current shell\n",
            "WARNING:   - manually set 'MAMBA_ROOT_PREFIX' to the root of your installation in your shell profile script.\n",
            "WARNING:   - use the '-r,--root-prefix' CLI option when calling mamba.\n",
            "WARNING: \n",
            "WARNING: This message originates from /usr/etc/profile.d/mamba.sh\n"
          ]
        }
      ],
      "source": [
        "%%bash\n",
        "#0. entrar no env\n",
        "cd ..\n",
        "source ./activateEnv.sh\n"
      ]
    },
    {
      "cell_type": "code",
      "execution_count": 2,
      "metadata": {},
      "outputs": [
        {
          "name": "stdout",
          "output_type": "stream",
          "text": [
            "\n",
            "Pinned packages:\n",
            "\n",
            "  - python=3.10\n",
            "\n"
          ]
        },
        {
          "name": "stderr",
          "output_type": "stream",
          "text": [
            "error    libmamba Could not create directory '/usr/pkgs': Permission denied\n"
          ]
        },
        {
          "name": "stdout",
          "output_type": "stream",
          "text": [
            "\n",
            "Transaction\n",
            "\n",
            "  Prefix: /home/figa/Documents/Programming/VSCode/Metagenomics-Course/env\n",
            "\n",
            "  All requested packages already installed\n",
            "\n",
            "\n",
            "Transaction starting\n",
            "\n",
            "Transaction finished\n",
            "\n"
          ]
        }
      ],
      "source": [
        "%%bash\n",
        "# Instalar os software que vamos usar nesta prática\n",
        "mamba install -c bioconda -c conda-forge fastqc bwa gatk4 cutadapt samtools bedtools ensembl-vep=115 -y"
      ]
    },
    {
      "cell_type": "code",
      "execution_count": 4,
      "metadata": {},
      "outputs": [
        {
          "name": "stderr",
          "output_type": "stream",
          "text": [
            "mv: cannot stat '*.fastq.gz': No such file or directory\n"
          ]
        }
      ],
      "source": [
        "%%bash\n",
        "\n",
        "mkdir -p fastq bwa bed cutadapt raw reference gatk vep \n",
        "mv *.fastq.gz raw/\n",
        "gunzip -c Chr15-reference.fasta.gz > reference/Chr15-reference.fasta\n"
      ]
    },
    {
      "cell_type": "code",
      "execution_count": 5,
      "metadata": {},
      "outputs": [
        {
          "name": "stdout",
          "output_type": "stream",
          "text": [
            "application/gzip\n",
            "application/gzip\n"
          ]
        },
        {
          "name": "stderr",
          "output_type": "stream",
          "text": [
            "Started analysis of patient-marfan-syndrom_R1.fastq.gz\n",
            "Approx 5% complete for patient-marfan-syndrom_R1.fastq.gz\n",
            "Approx 10% complete for patient-marfan-syndrom_R1.fastq.gz\n",
            "Approx 15% complete for patient-marfan-syndrom_R1.fastq.gz\n",
            "Approx 20% complete for patient-marfan-syndrom_R1.fastq.gz\n",
            "Approx 25% complete for patient-marfan-syndrom_R1.fastq.gz\n",
            "Approx 30% complete for patient-marfan-syndrom_R1.fastq.gz\n",
            "Approx 35% complete for patient-marfan-syndrom_R1.fastq.gz\n",
            "Approx 40% complete for patient-marfan-syndrom_R1.fastq.gz\n",
            "Approx 45% complete for patient-marfan-syndrom_R1.fastq.gz\n",
            "Approx 50% complete for patient-marfan-syndrom_R1.fastq.gz\n",
            "Approx 55% complete for patient-marfan-syndrom_R1.fastq.gz\n",
            "Approx 60% complete for patient-marfan-syndrom_R1.fastq.gz\n",
            "Approx 65% complete for patient-marfan-syndrom_R1.fastq.gz\n",
            "Approx 70% complete for patient-marfan-syndrom_R1.fastq.gz\n",
            "Approx 75% complete for patient-marfan-syndrom_R1.fastq.gz\n",
            "Approx 80% complete for patient-marfan-syndrom_R1.fastq.gz\n",
            "Approx 85% complete for patient-marfan-syndrom_R1.fastq.gz\n",
            "Approx 90% complete for patient-marfan-syndrom_R1.fastq.gz\n",
            "Approx 95% complete for patient-marfan-syndrom_R1.fastq.gz\n",
            "Approx 100% complete for patient-marfan-syndrom_R1.fastq.gz\n"
          ]
        },
        {
          "name": "stdout",
          "output_type": "stream",
          "text": [
            "Analysis complete for patient-marfan-syndrom_R1.fastq.gz\n"
          ]
        },
        {
          "name": "stderr",
          "output_type": "stream",
          "text": [
            "Started analysis of patient-marfan-syndrom_R2.fastq.gz\n",
            "Approx 5% complete for patient-marfan-syndrom_R2.fastq.gz\n",
            "Approx 10% complete for patient-marfan-syndrom_R2.fastq.gz\n",
            "Approx 15% complete for patient-marfan-syndrom_R2.fastq.gz\n",
            "Approx 20% complete for patient-marfan-syndrom_R2.fastq.gz\n",
            "Approx 25% complete for patient-marfan-syndrom_R2.fastq.gz\n",
            "Approx 30% complete for patient-marfan-syndrom_R2.fastq.gz\n",
            "Approx 35% complete for patient-marfan-syndrom_R2.fastq.gz\n",
            "Approx 40% complete for patient-marfan-syndrom_R2.fastq.gz\n",
            "Approx 45% complete for patient-marfan-syndrom_R2.fastq.gz\n",
            "Approx 50% complete for patient-marfan-syndrom_R2.fastq.gz\n",
            "Approx 55% complete for patient-marfan-syndrom_R2.fastq.gz\n",
            "Approx 60% complete for patient-marfan-syndrom_R2.fastq.gz\n",
            "Approx 65% complete for patient-marfan-syndrom_R2.fastq.gz\n",
            "Approx 70% complete for patient-marfan-syndrom_R2.fastq.gz\n",
            "Approx 75% complete for patient-marfan-syndrom_R2.fastq.gz\n",
            "Approx 80% complete for patient-marfan-syndrom_R2.fastq.gz\n",
            "Approx 85% complete for patient-marfan-syndrom_R2.fastq.gz\n",
            "Approx 90% complete for patient-marfan-syndrom_R2.fastq.gz\n",
            "Approx 95% complete for patient-marfan-syndrom_R2.fastq.gz\n",
            "Approx 100% complete for patient-marfan-syndrom_R2.fastq.gz\n"
          ]
        },
        {
          "name": "stdout",
          "output_type": "stream",
          "text": [
            "Analysis complete for patient-marfan-syndrom_R2.fastq.gz\n",
            "This is cutadapt 5.1 with Python 3.10.14\n",
            "Command line parameters: -u 5 -U 5 -u -5 -U -5 -m 90 -o cutadapt/patient-marfan-syndrom-trimmed_R1.fastq.gz -p cutadapt/patient-marfan-syndrom-trimmed_R2.fastq.gz raw/patient-marfan-syndrom_R1.fastq.gz raw/patient-marfan-syndrom_R2.fastq.gz\n",
            "Processing paired-end reads on 1 core ...\n",
            "\n",
            "=== Summary ===\n",
            "\n",
            "Total read pairs processed:            300,000\n",
            "\n",
            "== Read fate breakdown ==\n",
            "Pairs that were too short:                  10 (0.0%)\n",
            "Pairs written (passing filters):       299,990 (100.0%)\n",
            "\n",
            "Total basepairs processed:    84,006,822 bp\n",
            "  Read 1:    42,010,138 bp\n",
            "  Read 2:    41,996,684 bp\n",
            "Total written (filtered):     78,004,675 bp (92.9%)\n",
            "  Read 1:    39,009,115 bp\n",
            "  Read 2:    38,995,560 bp\n"
          ]
        }
      ],
      "source": [
        "%%bash \n",
        "fastqc -o fastq/ raw/patient-marfan-syndrom_R1.fastq.gz raw/patient-marfan-syndrom_R2.fastq.gz\n",
        "cutadapt \\\n",
        "  -u 5 -U 5 \\\n",
        "  -u -5 -U -5 \\\n",
        "  -m 90 \\\n",
        "  -o cutadapt/patient-marfan-syndrom-trimmed_R1.fastq.gz \\\n",
        "  -p cutadapt/patient-marfan-syndrom-trimmed_R2.fastq.gz \\\n",
        "  raw/patient-marfan-syndrom_R1.fastq.gz \\\n",
        "  raw/patient-marfan-syndrom_R2.fastq.gz\n"
      ]
    },
    {
      "cell_type": "code",
      "execution_count": 6,
      "metadata": {},
      "outputs": [
        {
          "name": "stderr",
          "output_type": "stream",
          "text": [
            "[bwa_index] Pack FASTA... 0.24 sec\n",
            "[bwa_index] Construct BWT for the packed sequence...\n",
            "[BWTIncCreate] textLength=203982378, availableWord=26352768\n",
            "[BWTIncConstructFromPacked] 10 iterations done. 43469882 characters processed.\n",
            "[BWTIncConstructFromPacked] 20 iterations done. 80306602 characters processed.\n",
            "[BWTIncConstructFromPacked] 30 iterations done. 113043146 characters processed.\n",
            "[BWTIncConstructFromPacked] 40 iterations done. 142135418 characters processed.\n",
            "[BWTIncConstructFromPacked] 50 iterations done. 167988682 characters processed.\n",
            "[BWTIncConstructFromPacked] 60 iterations done. 190963082 characters processed.\n",
            "[bwt_gen] Finished constructing BWT in 67 iterations.\n",
            "[bwa_index] 29.70 seconds elapse.\n",
            "[bwa_index] Update BWT... 0.20 sec\n",
            "[bwa_index] Pack forward-only FASTA... 0.15 sec\n",
            "[bwa_index] Construct SA from BWT and Occ... 15.17 sec\n",
            "[main] Version: 0.7.18-r1243-dirty\n",
            "[main] CMD: bwa index reference/Chr15-reference.fasta\n",
            "[main] Real time: 45.702 sec; CPU: 45.460 sec\n",
            "[M::bwa_idx_load_from_disk] read 0 ALT contigs\n",
            "[M::process] read 76930 sequences (10000239 bp)...\n",
            "[M::process] read 76900 sequences (10000125 bp)...\n",
            "[M::mem_pestat] # candidate unique pairs for (FF, FR, RF, RR): (0, 38141, 0, 0)\n",
            "[M::mem_pestat] skip orientation FF as there are not enough pairs\n",
            "[M::mem_pestat] analyzing insert size distribution for orientation FR...\n",
            "[M::mem_pestat] (25, 50, 75) percentile: (325, 339, 353)\n",
            "[M::mem_pestat] low and high boundaries for computing mean and std.dev: (269, 409)\n",
            "[M::mem_pestat] mean and std.dev: (339.05, 19.93)\n",
            "[M::mem_pestat] low and high boundaries for proper pairs: (241, 437)\n",
            "[M::mem_pestat] skip orientation RF as there are not enough pairs\n",
            "[M::mem_pestat] skip orientation RR as there are not enough pairs\n",
            "[M::mem_process_seqs] Processed 76930 reads in 3.862 CPU sec, 3.797 real sec\n",
            "[M::process] read 76910 sequences (10000163 bp)...\n",
            "[M::mem_pestat] # candidate unique pairs for (FF, FR, RF, RR): (0, 38127, 0, 0)\n",
            "[M::mem_pestat] skip orientation FF as there are not enough pairs\n",
            "[M::mem_pestat] analyzing insert size distribution for orientation FR...\n",
            "[M::mem_pestat] (25, 50, 75) percentile: (326, 339, 353)\n",
            "[M::mem_pestat] low and high boundaries for computing mean and std.dev: (272, 407)\n",
            "[M::mem_pestat] mean and std.dev: (339.12, 19.87)\n",
            "[M::mem_pestat] low and high boundaries for proper pairs: (245, 434)\n",
            "[M::mem_pestat] skip orientation RF as there are not enough pairs\n",
            "[M::mem_pestat] skip orientation RR as there are not enough pairs\n",
            "[M::mem_process_seqs] Processed 76900 reads in 3.857 CPU sec, 3.782 real sec\n",
            "[M::process] read 76896 sequences (10000160 bp)...\n",
            "[M::mem_pestat] # candidate unique pairs for (FF, FR, RF, RR): (0, 38152, 0, 0)\n",
            "[M::mem_pestat] skip orientation FF as there are not enough pairs\n",
            "[M::mem_pestat] analyzing insert size distribution for orientation FR...\n",
            "[M::mem_pestat] (25, 50, 75) percentile: (326, 339, 353)\n",
            "[M::mem_pestat] low and high boundaries for computing mean and std.dev: (272, 407)\n",
            "[M::mem_pestat] mean and std.dev: (339.14, 19.91)\n",
            "[M::mem_pestat] low and high boundaries for proper pairs: (245, 434)\n",
            "[M::mem_pestat] skip orientation RF as there are not enough pairs\n",
            "[M::mem_pestat] skip orientation RR as there are not enough pairs\n",
            "[M::mem_process_seqs] Processed 76910 reads in 3.806 CPU sec, 3.730 real sec\n",
            "[M::process] read 76920 sequences (10000086 bp)...\n",
            "[M::mem_pestat] # candidate unique pairs for (FF, FR, RF, RR): (0, 38115, 0, 0)\n",
            "[M::mem_pestat] skip orientation FF as there are not enough pairs\n",
            "[M::mem_pestat] analyzing insert size distribution for orientation FR...\n",
            "[M::mem_pestat] (25, 50, 75) percentile: (325, 339, 353)\n",
            "[M::mem_pestat] low and high boundaries for computing mean and std.dev: (269, 409)\n",
            "[M::mem_pestat] mean and std.dev: (338.99, 20.00)\n",
            "[M::mem_pestat] low and high boundaries for proper pairs: (241, 437)\n",
            "[M::mem_pestat] skip orientation RF as there are not enough pairs\n",
            "[M::mem_pestat] skip orientation RR as there are not enough pairs\n",
            "[M::mem_process_seqs] Processed 76896 reads in 3.799 CPU sec, 3.726 real sec\n",
            "[M::process] read 76956 sequences (10000187 bp)...\n",
            "[M::mem_pestat] # candidate unique pairs for (FF, FR, RF, RR): (0, 38140, 0, 0)\n",
            "[M::mem_pestat] skip orientation FF as there are not enough pairs\n",
            "[M::mem_pestat] analyzing insert size distribution for orientation FR...\n",
            "[M::mem_pestat] (25, 50, 75) percentile: (326, 339, 352)\n",
            "[M::mem_pestat] low and high boundaries for computing mean and std.dev: (274, 404)\n",
            "[M::mem_pestat] mean and std.dev: (338.95, 19.83)\n",
            "[M::mem_pestat] low and high boundaries for proper pairs: (248, 430)\n",
            "[M::mem_pestat] skip orientation RF as there are not enough pairs\n",
            "[M::mem_pestat] skip orientation RR as there are not enough pairs\n",
            "[M::mem_process_seqs] Processed 76920 reads in 3.804 CPU sec, 3.729 real sec\n",
            "[M::process] read 76942 sequences (10000103 bp)...\n",
            "[M::mem_pestat] # candidate unique pairs for (FF, FR, RF, RR): (0, 38175, 0, 0)\n",
            "[M::mem_pestat] skip orientation FF as there are not enough pairs\n",
            "[M::mem_pestat] analyzing insert size distribution for orientation FR...\n",
            "[M::mem_pestat] (25, 50, 75) percentile: (326, 339, 352)\n",
            "[M::mem_pestat] low and high boundaries for computing mean and std.dev: (274, 404)\n",
            "[M::mem_pestat] mean and std.dev: (339.16, 19.78)\n",
            "[M::mem_pestat] low and high boundaries for proper pairs: (248, 430)\n",
            "[M::mem_pestat] skip orientation RF as there are not enough pairs\n",
            "[M::mem_pestat] skip orientation RR as there are not enough pairs\n",
            "[M::mem_process_seqs] Processed 76956 reads in 3.800 CPU sec, 3.724 real sec\n",
            "[M::process] read 61526 sequences (8003612 bp)...\n",
            "[M::mem_pestat] # candidate unique pairs for (FF, FR, RF, RR): (0, 38142, 0, 0)\n",
            "[M::mem_pestat] skip orientation FF as there are not enough pairs\n",
            "[M::mem_pestat] analyzing insert size distribution for orientation FR...\n",
            "[M::mem_pestat] (25, 50, 75) percentile: (325, 339, 352)\n",
            "[M::mem_pestat] low and high boundaries for computing mean and std.dev: (271, 406)\n",
            "[M::mem_pestat] mean and std.dev: (338.94, 19.87)\n",
            "[M::mem_pestat] low and high boundaries for proper pairs: (244, 433)\n",
            "[M::mem_pestat] skip orientation RF as there are not enough pairs\n",
            "[M::mem_pestat] skip orientation RR as there are not enough pairs\n",
            "[M::mem_process_seqs] Processed 76942 reads in 3.742 CPU sec, 3.685 real sec\n",
            "[M::mem_pestat] # candidate unique pairs for (FF, FR, RF, RR): (0, 30539, 0, 0)\n",
            "[M::mem_pestat] skip orientation FF as there are not enough pairs\n",
            "[M::mem_pestat] analyzing insert size distribution for orientation FR...\n",
            "[M::mem_pestat] (25, 50, 75) percentile: (326, 339, 353)\n",
            "[M::mem_pestat] low and high boundaries for computing mean and std.dev: (272, 407)\n",
            "[M::mem_pestat] mean and std.dev: (339.24, 19.92)\n",
            "[M::mem_pestat] low and high boundaries for proper pairs: (245, 434)\n",
            "[M::mem_pestat] skip orientation RF as there are not enough pairs\n",
            "[M::mem_pestat] skip orientation RR as there are not enough pairs\n",
            "[M::mem_process_seqs] Processed 61526 reads in 2.991 CPU sec, 2.984 real sec\n",
            "[main] Version: 0.7.18-r1243-dirty\n",
            "[main] CMD: bwa mem -R @RG\\tID:sample1\\tSM:sample1\\tPL:ILLUMINA\\tLB:lib1\\tPU:unit1 reference/Chr15-reference.fasta cutadapt/patient-marfan-syndrom-trimmed_R1.fastq.gz cutadapt/patient-marfan-syndrom-trimmed_R2.fastq.gz\n",
            "[main] Real time: 29.269 sec; CPU: 29.768 sec\n"
          ]
        }
      ],
      "source": [
        "%%bash\n",
        "#1o indexa contra o genoma humano pra depois alinhar\n",
        "samtools faidx reference/Chr15-reference.fasta\n",
        "bwa index reference/Chr15-reference.fasta\n",
        "\n",
        "bwa mem reference/Chr15-reference.fasta \\\n",
        "  -R '@RG\\tID:sample1\\tSM:sample1\\tPL:ILLUMINA\\tLB:lib1\\tPU:unit1' \\\n",
        "  cutadapt/patient-marfan-syndrom-trimmed_R1.fastq.gz \\\n",
        "  cutadapt/patient-marfan-syndrom-trimmed_R2.fastq.gz \\\n",
        "  | samtools sort -o bwa/patient-marfan-syndrom-mapped-host.bam\n",
        "  \n",
        "  samtools index bwa/patient-marfan-syndrom-mapped-host.bam"
      ]
    },
    {
      "cell_type": "code",
      "execution_count": 7,
      "metadata": {},
      "outputs": [
        {
          "name": "stderr",
          "output_type": "stream",
          "text": [
            "Using GATK jar /home/figa/Documents/Programming/VSCode/Metagenomics-Course/env/share/gatk4-4.6.2.0-1/gatk-package-4.6.2.0-local.jar\n",
            "Running:\n",
            "    java -Dsamjdk.use_async_io_read_samtools=false -Dsamjdk.use_async_io_write_samtools=true -Dsamjdk.use_async_io_write_tribble=false -Dsamjdk.compression_level=2 -jar /home/figa/Documents/Programming/VSCode/Metagenomics-Course/env/share/gatk4-4.6.2.0-1/gatk-package-4.6.2.0-local.jar HaplotypeCaller -R reference/Chr15-reference.fasta -I bwa/patient-marfan-syndrom-mapped-host.bam -O gatk/patient-marfan-syndrom-host-variants.vcf\n",
            "14:35:02.858 INFO  NativeLibraryLoader - Loading libgkl_compression.so from jar:file:/home/figa/Documents/Programming/VSCode/Metagenomics-Course/env/share/gatk4-4.6.2.0-1/gatk-package-4.6.2.0-local.jar!/com/intel/gkl/native/libgkl_compression.so\n",
            "14:35:03.095 INFO  HaplotypeCaller - ------------------------------------------------------------\n",
            "14:35:03.096 INFO  HaplotypeCaller - The Genome Analysis Toolkit (GATK) v4.6.2.0\n",
            "14:35:03.096 INFO  HaplotypeCaller - For support and documentation go to https://software.broadinstitute.org/gatk/\n",
            "14:35:03.096 INFO  HaplotypeCaller - Executing as figa@FIGUEIREOS on Linux v6.17.1-arch1-1 amd64\n",
            "14:35:03.097 INFO  HaplotypeCaller - Java runtime: OpenJDK 64-Bit Server VM v22.0.1-internal-adhoc.conda.src\n",
            "14:35:03.097 INFO  HaplotypeCaller - Start Date/Time: October 12, 2025, 2:35:02 PM BRT\n",
            "14:35:03.097 INFO  HaplotypeCaller - ------------------------------------------------------------\n",
            "14:35:03.097 INFO  HaplotypeCaller - ------------------------------------------------------------\n",
            "14:35:03.097 INFO  HaplotypeCaller - HTSJDK Version: 4.2.0\n",
            "14:35:03.097 INFO  HaplotypeCaller - Picard Version: 3.4.0\n",
            "14:35:03.097 INFO  HaplotypeCaller - Built for Spark Version: 3.5.0\n",
            "14:35:03.098 INFO  HaplotypeCaller - HTSJDK Defaults.COMPRESSION_LEVEL : 2\n",
            "14:35:03.098 INFO  HaplotypeCaller - HTSJDK Defaults.USE_ASYNC_IO_READ_FOR_SAMTOOLS : false\n",
            "14:35:03.098 INFO  HaplotypeCaller - HTSJDK Defaults.USE_ASYNC_IO_WRITE_FOR_SAMTOOLS : true\n",
            "14:35:03.098 INFO  HaplotypeCaller - HTSJDK Defaults.USE_ASYNC_IO_WRITE_FOR_TRIBBLE : false\n",
            "14:35:03.098 INFO  HaplotypeCaller - Deflater: IntelDeflater\n",
            "14:35:03.098 INFO  HaplotypeCaller - Inflater: IntelInflater\n",
            "14:35:03.098 INFO  HaplotypeCaller - GCS max retries/reopens: 20\n",
            "14:35:03.098 INFO  HaplotypeCaller - Requester pays: disabled\n",
            "14:35:03.099 INFO  HaplotypeCaller - Initializing engine\n",
            "14:35:03.149 INFO  HaplotypeCaller - Done initializing engine\n",
            "14:35:03.152 INFO  NativeLibraryLoader - Loading libgkl_utils.so from jar:file:/home/figa/Documents/Programming/VSCode/Metagenomics-Course/env/share/gatk4-4.6.2.0-1/gatk-package-4.6.2.0-local.jar!/com/intel/gkl/native/libgkl_utils.so\n",
            "14:35:03.153 INFO  NativeLibraryLoader - Loading libgkl_smithwaterman.so from jar:file:/home/figa/Documents/Programming/VSCode/Metagenomics-Course/env/share/gatk4-4.6.2.0-1/gatk-package-4.6.2.0-local.jar!/com/intel/gkl/native/libgkl_smithwaterman.so\n",
            "14:35:03.153 INFO  IntelSmithWaterman - Using CPU-supported AVX-512 instructions\n",
            "14:35:03.153 INFO  SmithWatermanAligner - Using AVX accelerated SmithWaterman implementation\n",
            "14:35:03.154 INFO  HaplotypeCallerEngine - Disabling physical phasing, which is supported only for reference-model confidence output\n",
            "14:35:03.158 INFO  NativeLibraryLoader - Loading libgkl_pairhmm_omp.so from jar:file:/home/figa/Documents/Programming/VSCode/Metagenomics-Course/env/share/gatk4-4.6.2.0-1/gatk-package-4.6.2.0-local.jar!/com/intel/gkl/native/libgkl_pairhmm_omp.so\n",
            "14:35:03.163 INFO  IntelPairHmm - Using CPU-supported AVX-512 instructions\n",
            "14:35:03.163 INFO  IntelPairHmm - Flush-to-zero (FTZ) is enabled when running PairHMM\n",
            "14:35:03.163 INFO  IntelPairHmm - Available threads: 16\n",
            "14:35:03.163 INFO  IntelPairHmm - Requested threads: 4\n",
            "14:35:03.163 INFO  PairHMM - Using the OpenMP multi-threaded AVX-accelerated native PairHMM implementation\n",
            "14:35:03.176 INFO  ProgressMeter - Starting traversal\n",
            "14:35:03.176 INFO  ProgressMeter -        Current Locus  Elapsed Minutes     Regions Processed   Regions/Minute\n",
            "14:35:06.191 WARN  InbreedingCoeff - InbreedingCoeff will not be calculated at position NC_000015.10:48437069 and possibly subsequent; at least 10 samples must have called genotypes\n",
            "14:35:11.644 INFO  HaplotypeCaller - 295 read(s) filtered by: MappingQualityReadFilter \n",
            "0 read(s) filtered by: MappingQualityAvailableReadFilter \n",
            "0 read(s) filtered by: MappedReadFilter \n",
            "0 read(s) filtered by: NotSecondaryAlignmentReadFilter \n",
            "0 read(s) filtered by: NotDuplicateReadFilter \n",
            "0 read(s) filtered by: PassesVendorQualityCheckReadFilter \n",
            "0 read(s) filtered by: NonZeroReferenceLengthAlignmentReadFilter \n",
            "0 read(s) filtered by: GoodCigarReadFilter \n",
            "0 read(s) filtered by: WellformedReadFilter \n",
            "295 total reads filtered out of 599980 reads processed\n",
            "14:35:11.644 INFO  ProgressMeter - NC_000015.10:101989793              0.1                339974        2408885.2\n",
            "14:35:11.645 INFO  ProgressMeter - Traversal complete. Processed 339974 total regions in 0.1 minutes.\n",
            "14:35:11.656 INFO  VectorLoglessPairHMM - Time spent in setup for JNI call : 0.0012712510000000002\n",
            "14:35:11.657 INFO  PairHMM - Total compute time in PairHMM computeLogLikelihoods() : 0.049911862\n",
            "14:35:11.657 INFO  SmithWatermanAligner - Total compute time in native Smith-Waterman : 0.02 sec\n",
            "14:35:11.657 INFO  HaplotypeCaller - Shutting down engine\n",
            "[October 12, 2025, 2:35:11 PM BRT] org.broadinstitute.hellbender.tools.walkers.haplotypecaller.HaplotypeCaller done. Elapsed time: 0.15 minutes.\n",
            "Runtime.totalMemory()=763363328\n"
          ]
        }
      ],
      "source": [
        "%%bash\n",
        "# Indexar a referência e BAM para chamada de variantes com GATK\n",
        "samtools dict reference/Chr15-reference.fasta > reference/Chr15-reference.dict\n",
        "samtools index bwa/patient-marfan-syndrom-mapped-host.bam\n",
        "\n",
        "gatk HaplotypeCaller \\\n",
        "  -R reference/Chr15-reference.fasta \\\n",
        "  -I bwa/patient-marfan-syndrom-mapped-host.bam \\\n",
        "  -O gatk/patient-marfan-syndrom-host-variants.vcf"
      ]
    },
    {
      "cell_type": "markdown",
      "metadata": {},
      "source": [
        "# Anotação de Variantes"
      ]
    },
    {
      "cell_type": "code",
      "execution_count": 14,
      "metadata": {},
      "outputs": [
        {
          "name": "stdout",
          "output_type": "stream",
          "text": [
            " - getting list of available cache files\n",
            " - downloading https://ftp.ensembl.org/pub/release-115/variation/indexed_vep_cache/homo_sapiens_vep_115_GRCh38.tar.gz\n",
            " - unpacking homo_sapiens_vep_115_GRCh38.tar.gz\n",
            " - converting cache, this may take some time but will allow VEP to look up variants and frequency data much faster\n",
            " - use CTRL-C to cancel if you do not wish to convert this cache now (you may run convert_cache.pl later)\n",
            "2025-10-12 12:37:45 - Processing homo_sapiens\n",
            "2025-10-12 12:37:45 - Processing version 115_GRCh38\n",
            "2025-10-12 12:37:45 - No unprocessed types remaining, skipping\n",
            "2025-10-12 12:37:45 - All done!\n",
            " - downloading Homo_sapiens.GRCh38.dna.toplevel.fa.gz\n",
            " - downloading Homo_sapiens.GRCh38.dna.toplevel.fa.gz.fai\n",
            " - downloading Homo_sapiens.GRCh38.dna.toplevel.fa.gz.gzi\n",
            "\n",
            "The FASTA file should be automatically detected by the VEP when using --cache or --offline.\n",
            "If it is not, use \"--fasta /home/figa/.vep/homo_sapiens/115_GRCh38/Homo_sapiens.GRCh38.dna.toplevel.fa.gz\"\n",
            "\n",
            "\n",
            "All done\n"
          ]
        }
      ],
      "source": [
        "%%bash\n",
        "vep_install -a cf -s homo_sapiens -y GRCh38 --NO_UPDATE ##baixa o genoma humano\n",
        "##Oh fuck."
      ]
    },
    {
      "cell_type": "code",
      "execution_count": 9,
      "metadata": {},
      "outputs": [],
      "source": [
        "%%bash\n",
        "bgzip gatk/patient-marfan-syndrom-host-variants.vcf\n",
        "tabix -p vcf gatk/patient-marfan-syndrom-host-variants.vcf.gz\n",
        "#gera os arquivos VCF para char o gene correto"
      ]
    },
    {
      "cell_type": "code",
      "execution_count": 10,
      "metadata": {},
      "outputs": [],
      "source": [
        "%%bash\n",
        "# Anotação de variantes a nível de proteína\n",
        "vep -i gatk/patient-marfan-syndrom-host-variants.vcf.gz \\\n",
        "    --output_file vep/patient-marfan-syndrom-host-variants.vep.tsv \\\n",
        "    --tab --force_overwrite \\\n",
        "    --offline --cache --dir_cache ~/.vep \\\n",
        "    --assembly GRCh38 \\\n",
        "    --symbol --hgvs --canonical --af_1kg --max_af \\\n",
        "    --everything --pick\\\n",
        "    --stats_file vep/patient-marfan-syndrom-host-variants.vep.html"
      ]
    }
  ],
  "metadata": {
    "colab": {
      "provenance": []
    },
    "kernelspec": {
      "display_name": "env",
      "language": "python",
      "name": "python3"
    },
    "language_info": {
      "codemirror_mode": {
        "name": "ipython",
        "version": 3
      },
      "file_extension": ".py",
      "mimetype": "text/x-python",
      "name": "python",
      "nbconvert_exporter": "python",
      "pygments_lexer": "ipython3",
      "version": "3.10.14"
    }
  },
  "nbformat": 4,
  "nbformat_minor": 0
}
