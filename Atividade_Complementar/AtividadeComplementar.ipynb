{
  "cells": [
    {
      "cell_type": "code",
      "execution_count": null,
      "metadata": {},
      "outputs": [
        {
          "name": "stdout",
          "output_type": "stream",
          "text": [
            "WARNING: The MAMBA_ROOT_PREFIX environment variable is not set.\n",
            "WARNING: This is required for mamba to work correctly as of 2.0.\n",
            "WARNING: \n",
            "WARNING: For now, we are setting 'MAMBA_ROOT_PREFIX' to '/usr'.\n",
            "WARNING: \n",
            "WARNING: Please make sure this is consistent with your installation or alternatively (by order of preference):\n",
            "WARNING:   - rerun 'mamba shell init' to initialize mamba for your current shell\n",
            "WARNING:   - manually set 'MAMBA_ROOT_PREFIX' to the root of your installation in your shell profile script.\n",
            "WARNING:   - use the '-r,--root-prefix' CLI option when calling mamba.\n",
            "WARNING: \n",
            "WARNING: This message originates from /usr/etc/profile.d/mamba.sh\n"
          ]
        }
      ],
      "source": [
        "%%bash\n",
        "cd ..\n",
        "source ./activateEnv.sh\n"
      ]
    },
    {
      "cell_type": "code",
      "execution_count": 2,
      "metadata": {},
      "outputs": [
        {
          "name": "stdout",
          "output_type": "stream",
          "text": [
            "\n",
            "Pinned packages:\n",
            "\n",
            "  - python=3.10\n",
            "\n"
          ]
        },
        {
          "name": "stderr",
          "output_type": "stream",
          "text": [
            "error    libmamba Could not create directory '/usr/pkgs': Permission denied\n"
          ]
        },
        {
          "name": "stdout",
          "output_type": "stream",
          "text": [
            "\n",
            "Transaction\n",
            "\n",
            "  Prefix: /home/figa/Documents/Programming/VSCode/Metagenomics-Course/env\n",
            "\n",
            "  All requested packages already installed\n",
            "\n",
            "\n",
            "Transaction starting\n",
            "\n",
            "Transaction finished\n",
            "\n"
          ]
        }
      ],
      "source": [
        "%%bash\n",
        "# Instalar os software que vamos usar nesta prática\n",
        "mamba install -c bioconda -c conda-forge fastqc bwa gatk4 cutadapt samtools bedtools ensembl-vep=115 -y"
      ]
    },
    {
      "cell_type": "code",
      "execution_count": null,
      "metadata": {},
      "outputs": [],
      "source": [
        "%%bash\n",
        "\n",
        "mkdir -p fastq bwa bed cutadapt raw reference gatk vep \n",
        "mv *.fastq.gz raw/\n",
        "gunzip -c Chr7-reference.fasta.gz > reference/Chr7-reference.fasta\n",
        "rm Chr7-reference.fasta.gz\n"
      ]
    },
    {
      "cell_type": "code",
      "execution_count": 4,
      "metadata": {},
      "outputs": [
        {
          "name": "stdout",
          "output_type": "stream",
          "text": [
            "application/gzip\n",
            "application/gzip\n"
          ]
        },
        {
          "name": "stderr",
          "output_type": "stream",
          "text": [
            "Started analysis of caso3-tumor-pulmonar_R1.fastq.gz\n",
            "Approx 5% complete for caso3-tumor-pulmonar_R1.fastq.gz\n",
            "Approx 10% complete for caso3-tumor-pulmonar_R1.fastq.gz\n",
            "Approx 15% complete for caso3-tumor-pulmonar_R1.fastq.gz\n",
            "Approx 20% complete for caso3-tumor-pulmonar_R1.fastq.gz\n",
            "Approx 25% complete for caso3-tumor-pulmonar_R1.fastq.gz\n",
            "Approx 30% complete for caso3-tumor-pulmonar_R1.fastq.gz\n",
            "Approx 35% complete for caso3-tumor-pulmonar_R1.fastq.gz\n",
            "Approx 40% complete for caso3-tumor-pulmonar_R1.fastq.gz\n",
            "Approx 45% complete for caso3-tumor-pulmonar_R1.fastq.gz\n",
            "Approx 50% complete for caso3-tumor-pulmonar_R1.fastq.gz\n",
            "Approx 55% complete for caso3-tumor-pulmonar_R1.fastq.gz\n",
            "Approx 60% complete for caso3-tumor-pulmonar_R1.fastq.gz\n",
            "Approx 65% complete for caso3-tumor-pulmonar_R1.fastq.gz\n",
            "Approx 70% complete for caso3-tumor-pulmonar_R1.fastq.gz\n",
            "Approx 75% complete for caso3-tumor-pulmonar_R1.fastq.gz\n",
            "Approx 80% complete for caso3-tumor-pulmonar_R1.fastq.gz\n",
            "Approx 85% complete for caso3-tumor-pulmonar_R1.fastq.gz\n",
            "Approx 90% complete for caso3-tumor-pulmonar_R1.fastq.gz\n",
            "Approx 95% complete for caso3-tumor-pulmonar_R1.fastq.gz\n",
            "Approx 100% complete for caso3-tumor-pulmonar_R1.fastq.gz\n"
          ]
        },
        {
          "name": "stdout",
          "output_type": "stream",
          "text": [
            "Analysis complete for caso3-tumor-pulmonar_R1.fastq.gz\n"
          ]
        },
        {
          "name": "stderr",
          "output_type": "stream",
          "text": [
            "Started analysis of caso3-tumor-pulmonar_R2.fastq.gz\n",
            "Approx 5% complete for caso3-tumor-pulmonar_R2.fastq.gz\n",
            "Approx 10% complete for caso3-tumor-pulmonar_R2.fastq.gz\n",
            "Approx 15% complete for caso3-tumor-pulmonar_R2.fastq.gz\n",
            "Approx 20% complete for caso3-tumor-pulmonar_R2.fastq.gz\n",
            "Approx 25% complete for caso3-tumor-pulmonar_R2.fastq.gz\n",
            "Approx 30% complete for caso3-tumor-pulmonar_R2.fastq.gz\n",
            "Approx 35% complete for caso3-tumor-pulmonar_R2.fastq.gz\n",
            "Approx 40% complete for caso3-tumor-pulmonar_R2.fastq.gz\n",
            "Approx 45% complete for caso3-tumor-pulmonar_R2.fastq.gz\n",
            "Approx 50% complete for caso3-tumor-pulmonar_R2.fastq.gz\n",
            "Approx 55% complete for caso3-tumor-pulmonar_R2.fastq.gz\n",
            "Approx 60% complete for caso3-tumor-pulmonar_R2.fastq.gz\n",
            "Approx 65% complete for caso3-tumor-pulmonar_R2.fastq.gz\n",
            "Approx 70% complete for caso3-tumor-pulmonar_R2.fastq.gz\n",
            "Approx 75% complete for caso3-tumor-pulmonar_R2.fastq.gz\n",
            "Approx 80% complete for caso3-tumor-pulmonar_R2.fastq.gz\n",
            "Approx 85% complete for caso3-tumor-pulmonar_R2.fastq.gz\n",
            "Approx 90% complete for caso3-tumor-pulmonar_R2.fastq.gz\n",
            "Approx 95% complete for caso3-tumor-pulmonar_R2.fastq.gz\n",
            "Approx 100% complete for caso3-tumor-pulmonar_R2.fastq.gz\n"
          ]
        },
        {
          "name": "stdout",
          "output_type": "stream",
          "text": [
            "Analysis complete for caso3-tumor-pulmonar_R2.fastq.gz\n",
            "This is cutadapt 5.1 with Python 3.10.14\n",
            "Command line parameters: -u 5 -U 5 -u -5 -U -5 -m 90 -o cutadapt/caso3-tumor-pulmonar-trimmed_R1.fastq.gz -p cutadapt/caso3-tumor-pulmonar-trimmed_R2.fastq.gz raw/caso3-tumor-pulmonar_R1.fastq.gz raw/caso3-tumor-pulmonar_R2.fastq.gz\n",
            "Processing paired-end reads on 1 core ...\n",
            "\n",
            "=== Summary ===\n",
            "\n",
            "Total read pairs processed:          4,000,000\n",
            "\n",
            "== Read fate breakdown ==\n",
            "Pairs that were too short:                   1 (0.0%)\n",
            "Pairs written (passing filters):     3,999,999 (100.0%)\n",
            "\n",
            "Total basepairs processed: 1,199,968,732 bp\n",
            "  Read 1:   599,968,852 bp\n",
            "  Read 2:   599,999,880 bp\n",
            "Total written (filtered):  1,119,968,504 bp (93.3%)\n",
            "  Read 1:   559,968,763 bp\n",
            "  Read 2:   559,999,741 bp\n"
          ]
        }
      ],
      "source": [
        "%%bash \n",
        "fastqc -o fastq/ raw/caso3-tumor-pulmonar_R1.fastq.gz raw/caso3-tumor-pulmonar_R2.fastq.gz\n",
        "cutadapt \\\n",
        "  -u 5 -U 5 \\\n",
        "  -u -5 -U -5 \\\n",
        "  -m 90 \\\n",
        "  -o cutadapt/caso3-tumor-pulmonar-trimmed_R1.fastq.gz \\\n",
        "  -p cutadapt/caso3-tumor-pulmonar-trimmed_R2.fastq.gz \\\n",
        "  raw/caso3-tumor-pulmonar_R1.fastq.gz \\\n",
        "  raw/caso3-tumor-pulmonar_R2.fastq.gz\n"
      ]
    },
    {
      "cell_type": "code",
      "execution_count": null,
      "metadata": {},
      "outputs": [
        {
          "name": "stderr",
          "output_type": "stream",
          "text": [
            "[bwa_index] Pack FASTA... 0.33 sec\n",
            "[bwa_index] Construct BWT for the packed sequence...\n",
            "[BWTIncCreate] textLength=318691946, availableWord=34423912\n",
            "[BWTIncConstructFromPacked] 10 iterations done. 56784042 characters processed.\n",
            "[BWTIncConstructFromPacked] 20 iterations done. 104904522 characters processed.\n",
            "[BWTIncConstructFromPacked] 30 iterations done. 147670090 characters processed.\n",
            "[BWTIncConstructFromPacked] 40 iterations done. 185676202 characters processed.\n",
            "[BWTIncConstructFromPacked] 50 iterations done. 219452122 characters processed.\n",
            "[BWTIncConstructFromPacked] 60 iterations done. 249468234 characters processed.\n",
            "[BWTIncConstructFromPacked] 70 iterations done. 276142554 characters processed.\n",
            "[BWTIncConstructFromPacked] 80 iterations done. 299846746 characters processed.\n",
            "[bwt_gen] Finished constructing BWT in 89 iterations.\n",
            "[bwa_index] 46.37 seconds elapse.\n",
            "[bwa_index] Update BWT... 0.32 sec\n",
            "[bwa_index] Pack forward-only FASTA... 0.19 sec\n",
            "[bwa_index] Construct SA from BWT and Occ... 29.45 sec\n",
            "[main] Version: 0.7.18-r1243-dirty\n",
            "[main] CMD: bwa index reference/Chr7-reference.fasta\n",
            "[main] Real time: 77.071 sec; CPU: 76.655 sec\n",
            "[M::bwa_idx_load_from_disk] read 0 ALT contigs\n",
            "[E::main_mem] fail to open file `cutadapt/caso3_tumor-pulmonar-trimmed_R1.fastq.gz'.\n",
            "[W::hts_set_opt] Cannot change block size for this format\n",
            "samtools sort: failed to read header from \"-\"\n",
            "[E::hts_open_format] Failed to open file \"bwa/caso3_tumor-pulmonar-mapped-host.bam\" : No such file or directory\n",
            "samtools index: failed to open \"bwa/caso3_tumor-pulmonar-mapped-host.bam\": No such file or directory\n"
          ]
        },
        {
          "ename": "CalledProcessError",
          "evalue": "Command 'b\"#1o indexa contra o genoma humano pra depois alinhar\\nsamtools faidx reference/Chr7-reference.fasta\\nbwa index reference/Chr7-reference.fasta\\n\\nbwa mem reference/Chr7-reference.fasta \\\\\\n  -R '@RG\\\\tID:sample1\\\\tSM:sample1\\\\tPL:ILLUMINA\\\\tLB:lib1\\\\tPU:unit1' \\\\\\n  cutadapt/caso3_tumor-pulmonar-trimmed_R1.fastq.gz \\\\\\n  cutadapt/caso3_tumor-pulmonar-trimmed_R2.fastq.gz \\\\\\n  | samtools sort -o bwa/caso3_tumor-pulmonar-mapped-host.bam\\n  \\n  samtools index bwa/caso3_tumor-pulmonar-mapped-host.bam\\n\"' returned non-zero exit status 1.",
          "output_type": "error",
          "traceback": [
            "\u001b[0;31m---------------------------------------------------------------------------\u001b[0m",
            "\u001b[0;31mCalledProcessError\u001b[0m                        Traceback (most recent call last)",
            "Cell \u001b[0;32mIn[6], line 1\u001b[0m\n\u001b[0;32m----> 1\u001b[0m \u001b[43mget_ipython\u001b[49m\u001b[43m(\u001b[49m\u001b[43m)\u001b[49m\u001b[38;5;241;43m.\u001b[39;49m\u001b[43mrun_cell_magic\u001b[49m\u001b[43m(\u001b[49m\u001b[38;5;124;43m'\u001b[39;49m\u001b[38;5;124;43mbash\u001b[39;49m\u001b[38;5;124;43m'\u001b[39;49m\u001b[43m,\u001b[49m\u001b[43m \u001b[49m\u001b[38;5;124;43m'\u001b[39;49m\u001b[38;5;124;43m'\u001b[39;49m\u001b[43m,\u001b[49m\u001b[43m \u001b[49m\u001b[38;5;124;43m\"\u001b[39;49m\u001b[38;5;124;43m#1o indexa contra o genoma humano pra depois alinhar\u001b[39;49m\u001b[38;5;130;43;01m\\n\u001b[39;49;00m\u001b[38;5;124;43msamtools faidx reference/Chr7-reference.fasta\u001b[39;49m\u001b[38;5;130;43;01m\\n\u001b[39;49;00m\u001b[38;5;124;43mbwa index reference/Chr7-reference.fasta\u001b[39;49m\u001b[38;5;130;43;01m\\n\u001b[39;49;00m\u001b[38;5;130;43;01m\\n\u001b[39;49;00m\u001b[38;5;124;43mbwa mem reference/Chr7-reference.fasta \u001b[39;49m\u001b[38;5;130;43;01m\\\\\u001b[39;49;00m\u001b[38;5;130;43;01m\\n\u001b[39;49;00m\u001b[38;5;124;43m  -R \u001b[39;49m\u001b[38;5;124;43m'\u001b[39;49m\u001b[38;5;124;43m@RG\u001b[39;49m\u001b[38;5;130;43;01m\\\\\u001b[39;49;00m\u001b[38;5;124;43mtID:sample1\u001b[39;49m\u001b[38;5;130;43;01m\\\\\u001b[39;49;00m\u001b[38;5;124;43mtSM:sample1\u001b[39;49m\u001b[38;5;130;43;01m\\\\\u001b[39;49;00m\u001b[38;5;124;43mtPL:ILLUMINA\u001b[39;49m\u001b[38;5;130;43;01m\\\\\u001b[39;49;00m\u001b[38;5;124;43mtLB:lib1\u001b[39;49m\u001b[38;5;130;43;01m\\\\\u001b[39;49;00m\u001b[38;5;124;43mtPU:unit1\u001b[39;49m\u001b[38;5;124;43m'\u001b[39;49m\u001b[38;5;124;43m \u001b[39;49m\u001b[38;5;130;43;01m\\\\\u001b[39;49;00m\u001b[38;5;130;43;01m\\n\u001b[39;49;00m\u001b[38;5;124;43m  cutadapt/caso3_tumor-pulmonar-trimmed_R1.fastq.gz \u001b[39;49m\u001b[38;5;130;43;01m\\\\\u001b[39;49;00m\u001b[38;5;130;43;01m\\n\u001b[39;49;00m\u001b[38;5;124;43m  cutadapt/caso3_tumor-pulmonar-trimmed_R2.fastq.gz \u001b[39;49m\u001b[38;5;130;43;01m\\\\\u001b[39;49;00m\u001b[38;5;130;43;01m\\n\u001b[39;49;00m\u001b[38;5;124;43m  | samtools sort -o bwa/caso3_tumor-pulmonar-mapped-host.bam\u001b[39;49m\u001b[38;5;130;43;01m\\n\u001b[39;49;00m\u001b[38;5;124;43m  \u001b[39;49m\u001b[38;5;130;43;01m\\n\u001b[39;49;00m\u001b[38;5;124;43m  samtools index bwa/caso3_tumor-pulmonar-mapped-host.bam\u001b[39;49m\u001b[38;5;130;43;01m\\n\u001b[39;49;00m\u001b[38;5;124;43m\"\u001b[39;49m\u001b[43m)\u001b[49m\n",
            "File \u001b[0;32m~/Documents/Programming/VSCode/Metagenomics-Course/env/lib/python3.10/site-packages/IPython/core/interactiveshell.py:2543\u001b[0m, in \u001b[0;36mInteractiveShell.run_cell_magic\u001b[0;34m(self, magic_name, line, cell)\u001b[0m\n\u001b[1;32m   2541\u001b[0m \u001b[38;5;28;01mwith\u001b[39;00m \u001b[38;5;28mself\u001b[39m\u001b[38;5;241m.\u001b[39mbuiltin_trap:\n\u001b[1;32m   2542\u001b[0m     args \u001b[38;5;241m=\u001b[39m (magic_arg_s, cell)\n\u001b[0;32m-> 2543\u001b[0m     result \u001b[38;5;241m=\u001b[39m \u001b[43mfn\u001b[49m\u001b[43m(\u001b[49m\u001b[38;5;241;43m*\u001b[39;49m\u001b[43margs\u001b[49m\u001b[43m,\u001b[49m\u001b[43m \u001b[49m\u001b[38;5;241;43m*\u001b[39;49m\u001b[38;5;241;43m*\u001b[39;49m\u001b[43mkwargs\u001b[49m\u001b[43m)\u001b[49m\n\u001b[1;32m   2545\u001b[0m \u001b[38;5;66;03m# The code below prevents the output from being displayed\u001b[39;00m\n\u001b[1;32m   2546\u001b[0m \u001b[38;5;66;03m# when using magics with decorator @output_can_be_silenced\u001b[39;00m\n\u001b[1;32m   2547\u001b[0m \u001b[38;5;66;03m# when the last Python token in the expression is a ';'.\u001b[39;00m\n\u001b[1;32m   2548\u001b[0m \u001b[38;5;28;01mif\u001b[39;00m \u001b[38;5;28mgetattr\u001b[39m(fn, magic\u001b[38;5;241m.\u001b[39mMAGIC_OUTPUT_CAN_BE_SILENCED, \u001b[38;5;28;01mFalse\u001b[39;00m):\n",
            "File \u001b[0;32m~/Documents/Programming/VSCode/Metagenomics-Course/env/lib/python3.10/site-packages/IPython/core/magics/script.py:159\u001b[0m, in \u001b[0;36mScriptMagics._make_script_magic.<locals>.named_script_magic\u001b[0;34m(line, cell)\u001b[0m\n\u001b[1;32m    157\u001b[0m \u001b[38;5;28;01melse\u001b[39;00m:\n\u001b[1;32m    158\u001b[0m     line \u001b[38;5;241m=\u001b[39m script\n\u001b[0;32m--> 159\u001b[0m \u001b[38;5;28;01mreturn\u001b[39;00m \u001b[38;5;28;43mself\u001b[39;49m\u001b[38;5;241;43m.\u001b[39;49m\u001b[43mshebang\u001b[49m\u001b[43m(\u001b[49m\u001b[43mline\u001b[49m\u001b[43m,\u001b[49m\u001b[43m \u001b[49m\u001b[43mcell\u001b[49m\u001b[43m)\u001b[49m\n",
            "File \u001b[0;32m~/Documents/Programming/VSCode/Metagenomics-Course/env/lib/python3.10/site-packages/IPython/core/magics/script.py:336\u001b[0m, in \u001b[0;36mScriptMagics.shebang\u001b[0;34m(self, line, cell)\u001b[0m\n\u001b[1;32m    331\u001b[0m \u001b[38;5;28;01mif\u001b[39;00m args\u001b[38;5;241m.\u001b[39mraise_error \u001b[38;5;129;01mand\u001b[39;00m p\u001b[38;5;241m.\u001b[39mreturncode \u001b[38;5;241m!=\u001b[39m \u001b[38;5;241m0\u001b[39m:\n\u001b[1;32m    332\u001b[0m     \u001b[38;5;66;03m# If we get here and p.returncode is still None, we must have\u001b[39;00m\n\u001b[1;32m    333\u001b[0m     \u001b[38;5;66;03m# killed it but not yet seen its return code. We don't wait for it,\u001b[39;00m\n\u001b[1;32m    334\u001b[0m     \u001b[38;5;66;03m# in case it's stuck in uninterruptible sleep. -9 = SIGKILL\u001b[39;00m\n\u001b[1;32m    335\u001b[0m     rc \u001b[38;5;241m=\u001b[39m p\u001b[38;5;241m.\u001b[39mreturncode \u001b[38;5;129;01mor\u001b[39;00m \u001b[38;5;241m-\u001b[39m\u001b[38;5;241m9\u001b[39m\n\u001b[0;32m--> 336\u001b[0m     \u001b[38;5;28;01mraise\u001b[39;00m CalledProcessError(rc, cell)\n",
            "\u001b[0;31mCalledProcessError\u001b[0m: Command 'b\"#1o indexa contra o genoma humano pra depois alinhar\\nsamtools faidx reference/Chr7-reference.fasta\\nbwa index reference/Chr7-reference.fasta\\n\\nbwa mem reference/Chr7-reference.fasta \\\\\\n  -R '@RG\\\\tID:sample1\\\\tSM:sample1\\\\tPL:ILLUMINA\\\\tLB:lib1\\\\tPU:unit1' \\\\\\n  cutadapt/caso3_tumor-pulmonar-trimmed_R1.fastq.gz \\\\\\n  cutadapt/caso3_tumor-pulmonar-trimmed_R2.fastq.gz \\\\\\n  | samtools sort -o bwa/caso3_tumor-pulmonar-mapped-host.bam\\n  \\n  samtools index bwa/caso3_tumor-pulmonar-mapped-host.bam\\n\"' returned non-zero exit status 1."
          ]
        }
      ],
      "source": [
        "%%bash\n",
        "#1o indexa contra o genoma humano pra depois alinhar\n",
        "samtools faidx reference/Chr7-reference.fasta\n",
        "bwa index reference/Chr7-reference.fasta\n",
        "\n",
        "bwa mem reference/Chr7-reference.fasta \\\n",
        "  -R '@RG\\tID:sample1\\tSM:sample1\\tPL:ILLUMINA\\tLB:lib1\\tPU:unit1' \\\n",
        "  cutadapt/caso3-tumor-pulmonar-trimmed_R1.fastq.gz \\\n",
        "  cutadapt/caso3-tumor-pulmonar-trimmed_R2.fastq.gz \\\n",
        "  | samtools sort -o bwa/caso3-tumor-pulmonar-mapped-host.bam\n",
        "  \n",
        "  samtools index bwa/caso3-tumor-pulmonar-mapped-host.bam"
      ]
    },
    {
      "cell_type": "code",
      "execution_count": 7,
      "metadata": {},
      "outputs": [
        {
          "name": "stderr",
          "output_type": "stream",
          "text": [
            "Using GATK jar /home/figa/Documents/Programming/VSCode/Metagenomics-Course/env/share/gatk4-4.6.2.0-1/gatk-package-4.6.2.0-local.jar\n",
            "Running:\n",
            "    java -Dsamjdk.use_async_io_read_samtools=false -Dsamjdk.use_async_io_write_samtools=true -Dsamjdk.use_async_io_write_tribble=false -Dsamjdk.compression_level=2 -jar /home/figa/Documents/Programming/VSCode/Metagenomics-Course/env/share/gatk4-4.6.2.0-1/gatk-package-4.6.2.0-local.jar HaplotypeCaller -R reference/Chr15-reference.fasta -I bwa/patient-marfan-syndrom-mapped-host.bam -O gatk/patient-marfan-syndrom-host-variants.vcf\n",
            "14:35:02.858 INFO  NativeLibraryLoader - Loading libgkl_compression.so from jar:file:/home/figa/Documents/Programming/VSCode/Metagenomics-Course/env/share/gatk4-4.6.2.0-1/gatk-package-4.6.2.0-local.jar!/com/intel/gkl/native/libgkl_compression.so\n",
            "14:35:03.095 INFO  HaplotypeCaller - ------------------------------------------------------------\n",
            "14:35:03.096 INFO  HaplotypeCaller - The Genome Analysis Toolkit (GATK) v4.6.2.0\n",
            "14:35:03.096 INFO  HaplotypeCaller - For support and documentation go to https://software.broadinstitute.org/gatk/\n",
            "14:35:03.096 INFO  HaplotypeCaller - Executing as figa@FIGUEIREOS on Linux v6.17.1-arch1-1 amd64\n",
            "14:35:03.097 INFO  HaplotypeCaller - Java runtime: OpenJDK 64-Bit Server VM v22.0.1-internal-adhoc.conda.src\n",
            "14:35:03.097 INFO  HaplotypeCaller - Start Date/Time: October 12, 2025, 2:35:02 PM BRT\n",
            "14:35:03.097 INFO  HaplotypeCaller - ------------------------------------------------------------\n",
            "14:35:03.097 INFO  HaplotypeCaller - ------------------------------------------------------------\n",
            "14:35:03.097 INFO  HaplotypeCaller - HTSJDK Version: 4.2.0\n",
            "14:35:03.097 INFO  HaplotypeCaller - Picard Version: 3.4.0\n",
            "14:35:03.097 INFO  HaplotypeCaller - Built for Spark Version: 3.5.0\n",
            "14:35:03.098 INFO  HaplotypeCaller - HTSJDK Defaults.COMPRESSION_LEVEL : 2\n",
            "14:35:03.098 INFO  HaplotypeCaller - HTSJDK Defaults.USE_ASYNC_IO_READ_FOR_SAMTOOLS : false\n",
            "14:35:03.098 INFO  HaplotypeCaller - HTSJDK Defaults.USE_ASYNC_IO_WRITE_FOR_SAMTOOLS : true\n",
            "14:35:03.098 INFO  HaplotypeCaller - HTSJDK Defaults.USE_ASYNC_IO_WRITE_FOR_TRIBBLE : false\n",
            "14:35:03.098 INFO  HaplotypeCaller - Deflater: IntelDeflater\n",
            "14:35:03.098 INFO  HaplotypeCaller - Inflater: IntelInflater\n",
            "14:35:03.098 INFO  HaplotypeCaller - GCS max retries/reopens: 20\n",
            "14:35:03.098 INFO  HaplotypeCaller - Requester pays: disabled\n",
            "14:35:03.099 INFO  HaplotypeCaller - Initializing engine\n",
            "14:35:03.149 INFO  HaplotypeCaller - Done initializing engine\n",
            "14:35:03.152 INFO  NativeLibraryLoader - Loading libgkl_utils.so from jar:file:/home/figa/Documents/Programming/VSCode/Metagenomics-Course/env/share/gatk4-4.6.2.0-1/gatk-package-4.6.2.0-local.jar!/com/intel/gkl/native/libgkl_utils.so\n",
            "14:35:03.153 INFO  NativeLibraryLoader - Loading libgkl_smithwaterman.so from jar:file:/home/figa/Documents/Programming/VSCode/Metagenomics-Course/env/share/gatk4-4.6.2.0-1/gatk-package-4.6.2.0-local.jar!/com/intel/gkl/native/libgkl_smithwaterman.so\n",
            "14:35:03.153 INFO  IntelSmithWaterman - Using CPU-supported AVX-512 instructions\n",
            "14:35:03.153 INFO  SmithWatermanAligner - Using AVX accelerated SmithWaterman implementation\n",
            "14:35:03.154 INFO  HaplotypeCallerEngine - Disabling physical phasing, which is supported only for reference-model confidence output\n",
            "14:35:03.158 INFO  NativeLibraryLoader - Loading libgkl_pairhmm_omp.so from jar:file:/home/figa/Documents/Programming/VSCode/Metagenomics-Course/env/share/gatk4-4.6.2.0-1/gatk-package-4.6.2.0-local.jar!/com/intel/gkl/native/libgkl_pairhmm_omp.so\n",
            "14:35:03.163 INFO  IntelPairHmm - Using CPU-supported AVX-512 instructions\n",
            "14:35:03.163 INFO  IntelPairHmm - Flush-to-zero (FTZ) is enabled when running PairHMM\n",
            "14:35:03.163 INFO  IntelPairHmm - Available threads: 16\n",
            "14:35:03.163 INFO  IntelPairHmm - Requested threads: 4\n",
            "14:35:03.163 INFO  PairHMM - Using the OpenMP multi-threaded AVX-accelerated native PairHMM implementation\n",
            "14:35:03.176 INFO  ProgressMeter - Starting traversal\n",
            "14:35:03.176 INFO  ProgressMeter -        Current Locus  Elapsed Minutes     Regions Processed   Regions/Minute\n",
            "14:35:06.191 WARN  InbreedingCoeff - InbreedingCoeff will not be calculated at position NC_000015.10:48437069 and possibly subsequent; at least 10 samples must have called genotypes\n",
            "14:35:11.644 INFO  HaplotypeCaller - 295 read(s) filtered by: MappingQualityReadFilter \n",
            "0 read(s) filtered by: MappingQualityAvailableReadFilter \n",
            "0 read(s) filtered by: MappedReadFilter \n",
            "0 read(s) filtered by: NotSecondaryAlignmentReadFilter \n",
            "0 read(s) filtered by: NotDuplicateReadFilter \n",
            "0 read(s) filtered by: PassesVendorQualityCheckReadFilter \n",
            "0 read(s) filtered by: NonZeroReferenceLengthAlignmentReadFilter \n",
            "0 read(s) filtered by: GoodCigarReadFilter \n",
            "0 read(s) filtered by: WellformedReadFilter \n",
            "295 total reads filtered out of 599980 reads processed\n",
            "14:35:11.644 INFO  ProgressMeter - NC_000015.10:101989793              0.1                339974        2408885.2\n",
            "14:35:11.645 INFO  ProgressMeter - Traversal complete. Processed 339974 total regions in 0.1 minutes.\n",
            "14:35:11.656 INFO  VectorLoglessPairHMM - Time spent in setup for JNI call : 0.0012712510000000002\n",
            "14:35:11.657 INFO  PairHMM - Total compute time in PairHMM computeLogLikelihoods() : 0.049911862\n",
            "14:35:11.657 INFO  SmithWatermanAligner - Total compute time in native Smith-Waterman : 0.02 sec\n",
            "14:35:11.657 INFO  HaplotypeCaller - Shutting down engine\n",
            "[October 12, 2025, 2:35:11 PM BRT] org.broadinstitute.hellbender.tools.walkers.haplotypecaller.HaplotypeCaller done. Elapsed time: 0.15 minutes.\n",
            "Runtime.totalMemory()=763363328\n"
          ]
        }
      ],
      "source": [
        "%%bash\n",
        "# Indexar a referência e BAM para chamada de variantes com GATK\n",
        "samtools dict reference/Chr15-reference.fasta > reference/Chr15-reference.dict\n",
        "samtools index bwa/patient-marfan-syndrom-mapped-host.bam\n",
        "\n",
        "gatk HaplotypeCaller \\\n",
        "  -R reference/Chr15-reference.fasta \\\n",
        "  -I bwa/patient-marfan-syndrom-mapped-host.bam \\\n",
        "  -O gatk/patient-marfan-syndrom-host-variants.vcf"
      ]
    },
    {
      "cell_type": "markdown",
      "metadata": {},
      "source": [
        "# Anotação de Variantes"
      ]
    },
    {
      "cell_type": "code",
      "execution_count": 14,
      "metadata": {},
      "outputs": [
        {
          "name": "stdout",
          "output_type": "stream",
          "text": [
            " - getting list of available cache files\n",
            " - downloading https://ftp.ensembl.org/pub/release-115/variation/indexed_vep_cache/homo_sapiens_vep_115_GRCh38.tar.gz\n",
            " - unpacking homo_sapiens_vep_115_GRCh38.tar.gz\n",
            " - converting cache, this may take some time but will allow VEP to look up variants and frequency data much faster\n",
            " - use CTRL-C to cancel if you do not wish to convert this cache now (you may run convert_cache.pl later)\n",
            "2025-10-12 12:37:45 - Processing homo_sapiens\n",
            "2025-10-12 12:37:45 - Processing version 115_GRCh38\n",
            "2025-10-12 12:37:45 - No unprocessed types remaining, skipping\n",
            "2025-10-12 12:37:45 - All done!\n",
            " - downloading Homo_sapiens.GRCh38.dna.toplevel.fa.gz\n",
            " - downloading Homo_sapiens.GRCh38.dna.toplevel.fa.gz.fai\n",
            " - downloading Homo_sapiens.GRCh38.dna.toplevel.fa.gz.gzi\n",
            "\n",
            "The FASTA file should be automatically detected by the VEP when using --cache or --offline.\n",
            "If it is not, use \"--fasta /home/figa/.vep/homo_sapiens/115_GRCh38/Homo_sapiens.GRCh38.dna.toplevel.fa.gz\"\n",
            "\n",
            "\n",
            "All done\n"
          ]
        }
      ],
      "source": [
        "%%bash\n",
        "vep_install -a cf -s homo_sapiens -y GRCh38 --NO_UPDATE ##baixa o genoma humano\n",
        "##Oh fuck."
      ]
    },
    {
      "cell_type": "code",
      "execution_count": 9,
      "metadata": {},
      "outputs": [],
      "source": [
        "%%bash\n",
        "bgzip gatk/patient-marfan-syndrom-host-variants.vcf\n",
        "tabix -p vcf gatk/patient-marfan-syndrom-host-variants.vcf.gz\n",
        "#gera os arquivos VCF para char o gene correto"
      ]
    },
    {
      "cell_type": "code",
      "execution_count": 10,
      "metadata": {},
      "outputs": [],
      "source": [
        "%%bash\n",
        "# Anotação de variantes a nível de proteína\n",
        "vep -i gatk/patient-marfan-syndrom-host-variants.vcf.gz \\\n",
        "    --output_file vep/patient-marfan-syndrom-host-variants.vep.tsv \\\n",
        "    --tab --force_overwrite \\\n",
        "    --offline --cache --dir_cache ~/.vep \\\n",
        "    --assembly GRCh38 \\\n",
        "    --symbol --hgvs --canonical --af_1kg --max_af \\\n",
        "    --everything --pick\\\n",
        "    --stats_file vep/patient-marfan-syndrom-host-variants.vep.html"
      ]
    }
  ],
  "metadata": {
    "colab": {
      "provenance": []
    },
    "kernelspec": {
      "display_name": "env",
      "language": "python",
      "name": "python3"
    },
    "language_info": {
      "codemirror_mode": {
        "name": "ipython",
        "version": 3
      },
      "file_extension": ".py",
      "mimetype": "text/x-python",
      "name": "python",
      "nbconvert_exporter": "python",
      "pygments_lexer": "ipython3",
      "version": "3.10.14"
    }
  },
  "nbformat": 4,
  "nbformat_minor": 0
}
