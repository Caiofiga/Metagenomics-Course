{
  "nbformat": 4,
  "nbformat_minor": 0,
  "metadata": {
    "colab": {
      "provenance": []
    },
    "kernelspec": {
      "name": "python3",
      "display_name": "Python 3"
    },
    "language_info": {
      "name": "python"
    }
  },
  "cells": [
    {
      "cell_type": "markdown",
      "source": [
        "# Configurar o ambiente\n",
        "\n"
      ],
      "metadata": {
        "id": "TTAZx3n4ZUtg"
      }
    },
    {
      "cell_type": "markdown",
      "source": [
        "Necessário apenas instalar a biblioteca biopython com PIP (porque o python já vem por padrão neste servidor)."
      ],
      "metadata": {
        "id": "huKgT7mMgm91"
      }
    },
    {
      "cell_type": "code",
      "source": [
        "!pip3 install biopython"
      ],
      "metadata": {
        "colab": {
          "base_uri": "https://localhost:8080/"
        },
        "id": "VYcGdsW1bTsb",
        "outputId": "c8037f2a-ad2a-4678-fa11-2ee77d311740"
      },
      "execution_count": null,
      "outputs": [
        {
          "output_type": "stream",
          "name": "stdout",
          "text": [
            "Collecting biopython\n",
            "  Downloading biopython-1.85-cp311-cp311-manylinux_2_17_x86_64.manylinux2014_x86_64.whl.metadata (13 kB)\n",
            "Requirement already satisfied: numpy in /usr/local/lib/python3.11/dist-packages (from biopython) (2.0.2)\n",
            "Downloading biopython-1.85-cp311-cp311-manylinux_2_17_x86_64.manylinux2014_x86_64.whl (3.3 MB)\n",
            "\u001b[?25l   \u001b[90m━━━━━━━━━━━━━━━━━━━━━━━━━━━━━━━━━━━━━━━━\u001b[0m \u001b[32m0.0/3.3 MB\u001b[0m \u001b[31m?\u001b[0m eta \u001b[36m-:--:--\u001b[0m\r\u001b[2K   \u001b[91m━━━━━━━━━━━━━━━━━━━━━━━━━━━\u001b[0m\u001b[90m╺\u001b[0m\u001b[90m━━━━━━━━━━━━\u001b[0m \u001b[32m2.2/3.3 MB\u001b[0m \u001b[31m66.8 MB/s\u001b[0m eta \u001b[36m0:00:01\u001b[0m\r\u001b[2K   \u001b[90m━━━━━━━━━━━━━━━━━━━━━━━━━━━━━━━━━━━━━━━━\u001b[0m \u001b[32m3.3/3.3 MB\u001b[0m \u001b[31m52.9 MB/s\u001b[0m eta \u001b[36m0:00:00\u001b[0m\n",
            "\u001b[?25hInstalling collected packages: biopython\n",
            "Successfully installed biopython-1.85\n"
          ]
        }
      ]
    },
    {
      "cell_type": "markdown",
      "source": [
        "# Exercício 1"
      ],
      "metadata": {
        "id": "Jrlnd1vpg1Mj"
      }
    },
    {
      "cell_type": "markdown",
      "source": [
        "**Objetivo**: reconhecer operações essenciais de sequência (tamanho, slicing, GC, transcrição, tradução)."
      ],
      "metadata": {
        "id": "VcgDiM7OiGxK"
      }
    },
    {
      "cell_type": "markdown",
      "source": [
        "Considere o código abaixo como base e exemplo para os exercícios a seguir:"
      ],
      "metadata": {
        "id": "oJMm_1BQhC91"
      }
    },
    {
      "cell_type": "code",
      "source": [
        "from Bio.Seq import Seq\n",
        "seq = Seq(\"ATGGCCATTGTAATGGGCCGCTGAAAGGGTGCCCGATAG\")\n",
        "print(\"len:\", len(seq))\n",
        "print(\"primeiros 10 nt:\", seq[:10])\n",
        "print(\"A:\", seq.count(\"A\"), \"C:\", seq.count(\"C\"), \"G:\", seq.count(\"G\"), \"T:\", seq.count(\"T\"))\n",
        "\n",
        "revcomp = seq.reverse_complement()\n",
        "print(\"revcomp:\", revcomp)\n",
        "\n",
        "rna = seq.transcribe()\n",
        "prot = seq.translate(to_stop=True)\n",
        "print(\"RNA:\", rna)\n",
        "print(\"Prot:\", prot)"
      ],
      "metadata": {
        "colab": {
          "base_uri": "https://localhost:8080/",
          "height": 384
        },
        "id": "fUlwr0x9e8NH",
        "outputId": "19f2aa84-0b04-4d92-85eb-62920284e541"
      },
      "execution_count": null,
      "outputs": [
        {
          "output_type": "error",
          "ename": "ModuleNotFoundError",
          "evalue": "No module named 'Bio'",
          "traceback": [
            "\u001b[0;31m---------------------------------------------------------------------------\u001b[0m",
            "\u001b[0;31mModuleNotFoundError\u001b[0m                       Traceback (most recent call last)",
            "\u001b[0;32m/tmp/ipython-input-2028762027.py\u001b[0m in \u001b[0;36m<cell line: 0>\u001b[0;34m()\u001b[0m\n\u001b[0;32m----> 1\u001b[0;31m \u001b[0;32mfrom\u001b[0m \u001b[0mBio\u001b[0m\u001b[0;34m.\u001b[0m\u001b[0mSeq\u001b[0m \u001b[0;32mimport\u001b[0m \u001b[0mSeq\u001b[0m\u001b[0;34m\u001b[0m\u001b[0;34m\u001b[0m\u001b[0m\n\u001b[0m\u001b[1;32m      2\u001b[0m \u001b[0mseq\u001b[0m \u001b[0;34m=\u001b[0m \u001b[0mSeq\u001b[0m\u001b[0;34m(\u001b[0m\u001b[0;34m\"ATGGCCATTGTAATGGGCCGCTGAAAGGGTGCCCGATAG\"\u001b[0m\u001b[0;34m)\u001b[0m\u001b[0;34m\u001b[0m\u001b[0;34m\u001b[0m\u001b[0m\n\u001b[1;32m      3\u001b[0m \u001b[0mprint\u001b[0m\u001b[0;34m(\u001b[0m\u001b[0;34m\"len:\"\u001b[0m\u001b[0;34m,\u001b[0m \u001b[0mlen\u001b[0m\u001b[0;34m(\u001b[0m\u001b[0mseq\u001b[0m\u001b[0;34m)\u001b[0m\u001b[0;34m)\u001b[0m\u001b[0;34m\u001b[0m\u001b[0;34m\u001b[0m\u001b[0m\n\u001b[1;32m      4\u001b[0m \u001b[0mprint\u001b[0m\u001b[0;34m(\u001b[0m\u001b[0;34m\"primeiros 10 nt:\"\u001b[0m\u001b[0;34m,\u001b[0m \u001b[0mseq\u001b[0m\u001b[0;34m[\u001b[0m\u001b[0;34m:\u001b[0m\u001b[0;36m10\u001b[0m\u001b[0;34m]\u001b[0m\u001b[0;34m)\u001b[0m\u001b[0;34m\u001b[0m\u001b[0;34m\u001b[0m\u001b[0m\n\u001b[1;32m      5\u001b[0m \u001b[0mprint\u001b[0m\u001b[0;34m(\u001b[0m\u001b[0;34m\"A:\"\u001b[0m\u001b[0;34m,\u001b[0m \u001b[0mseq\u001b[0m\u001b[0;34m.\u001b[0m\u001b[0mcount\u001b[0m\u001b[0;34m(\u001b[0m\u001b[0;34m\"A\"\u001b[0m\u001b[0;34m)\u001b[0m\u001b[0;34m,\u001b[0m \u001b[0;34m\"C:\"\u001b[0m\u001b[0;34m,\u001b[0m \u001b[0mseq\u001b[0m\u001b[0;34m.\u001b[0m\u001b[0mcount\u001b[0m\u001b[0;34m(\u001b[0m\u001b[0;34m\"C\"\u001b[0m\u001b[0;34m)\u001b[0m\u001b[0;34m,\u001b[0m \u001b[0;34m\"G:\"\u001b[0m\u001b[0;34m,\u001b[0m \u001b[0mseq\u001b[0m\u001b[0;34m.\u001b[0m\u001b[0mcount\u001b[0m\u001b[0;34m(\u001b[0m\u001b[0;34m\"G\"\u001b[0m\u001b[0;34m)\u001b[0m\u001b[0;34m,\u001b[0m \u001b[0;34m\"T:\"\u001b[0m\u001b[0;34m,\u001b[0m \u001b[0mseq\u001b[0m\u001b[0;34m.\u001b[0m\u001b[0mcount\u001b[0m\u001b[0;34m(\u001b[0m\u001b[0;34m\"T\"\u001b[0m\u001b[0;34m)\u001b[0m\u001b[0;34m)\u001b[0m\u001b[0;34m\u001b[0m\u001b[0;34m\u001b[0m\u001b[0m\n",
            "\u001b[0;31mModuleNotFoundError\u001b[0m: No module named 'Bio'",
            "",
            "\u001b[0;31m---------------------------------------------------------------------------\u001b[0;32m\nNOTE: If your import is failing due to a missing package, you can\nmanually install dependencies using either !pip or !apt.\n\nTo view examples of installing some common dependencies, click the\n\"Open Examples\" button below.\n\u001b[0;31m---------------------------------------------------------------------------\u001b[0m\n"
          ],
          "errorDetails": {
            "actions": [
              {
                "action": "open_url",
                "actionText": "Open Examples",
                "url": "/notebooks/snippets/importing_libraries.ipynb"
              }
            ]
          }
        }
      ]
    },
    {
      "cell_type": "markdown",
      "source": [
        "1a: Escreva uma função gc(seq) que retorne %GC com 2 casas."
      ],
      "metadata": {
        "id": "sMyTHbfFfT3R"
      }
    },
    {
      "cell_type": "code",
      "source": [],
      "metadata": {
        "id": "dlrBPPMje8HR"
      },
      "execution_count": null,
      "outputs": []
    },
    {
      "cell_type": "markdown",
      "source": [
        "1b: Agora teste em seq e em revcomp (o %GC muda? por quê?)"
      ],
      "metadata": {
        "id": "VphN08BlfzcA"
      }
    },
    {
      "cell_type": "code",
      "source": [],
      "metadata": {
        "id": "jAwzv0pSf-m-"
      },
      "execution_count": null,
      "outputs": []
    },
    {
      "cell_type": "markdown",
      "source": [
        "1c (para casa): Verifique se seq contém o motivo GGG (use o operador in) e retorne as posições onde ocorre"
      ],
      "metadata": {
        "id": "ADkWfoGsf-21"
      }
    },
    {
      "cell_type": "code",
      "source": [],
      "metadata": {
        "id": "uaPYKXVRgNn5"
      },
      "execution_count": null,
      "outputs": []
    },
    {
      "cell_type": "markdown",
      "source": [
        "# Exercício 2"
      ],
      "metadata": {
        "id": "HYk2gpZmhfo3"
      }
    },
    {
      "cell_type": "markdown",
      "source": [
        "**Objetivo**: fazer parsing de FASTA, sumarizar, filtrar e gravar resultados."
      ],
      "metadata": {
        "id": "IOwKFVYphiY9"
      }
    },
    {
      "cell_type": "markdown",
      "source": [
        "Considere o código abaixo como base e exemplo para os exercícios a seguir:"
      ],
      "metadata": {
        "id": "U2z1lWzKiRCJ"
      }
    },
    {
      "cell_type": "code",
      "source": [
        "from Bio import SeqIO\n",
        "\n",
        "def gc(seq):\n",
        "    s = str(seq).upper()\n",
        "    return 100*(s.count(\"G\")+s.count(\"C\"))/len(s)\n",
        "\n",
        "in_fa = \"Genomas_filoviridae.fasta\"  # troque pelo seu caminho\n",
        "\n",
        "n = 0\n",
        "tamanhos, gcs = [], []\n",
        "for rec in SeqIO.parse(in_fa, \"fasta\"):\n",
        "    n += 1\n",
        "    tamanhos.append(len(rec.seq))\n",
        "    gcs.append(gc(rec.seq))\n",
        "print(f\"lidas {n} sequências\")\n",
        "print(\"tamanho médio:\", sum(tamanhos)/len(tamanhos))\n",
        "print(\"GC médio:\", sum(gcs)/len(gcs))"
      ],
      "metadata": {
        "colab": {
          "base_uri": "https://localhost:8080/"
        },
        "id": "GUG44q1Phi1l",
        "outputId": "f6c9cd9a-2456-4cd6-bd78-62511c77d5f1"
      },
      "execution_count": null,
      "outputs": [
        {
          "output_type": "stream",
          "name": "stdout",
          "text": [
            "lidas 833 sequências\n",
            "tamanho médio: 18917.597839135655\n",
            "GC médio: 40.93000407855798\n"
          ]
        }
      ]
    },
    {
      "cell_type": "markdown",
      "source": [
        "2a: Pesquisando em um livro de virologia, você descobriu que o genoma completo de Filovirus deve ser sempre maior do que 18700 nucleotídeos. Filtre e salve em `filtered.fasta` apenas as sequências de genoma completo de Filoviridae. Quantas sequências foram removidas por não serem genomas completos?"
      ],
      "metadata": {
        "id": "rExeHRkZijQq"
      }
    },
    {
      "cell_type": "code",
      "source": [
        "filtered_fasta = []\n",
        "count = 0\n",
        "for rec in SeqIO.parse(in_fa, \"fasta\"):\n",
        "    if len(rec.seq) >= 18700:\n",
        "        filtered_fasta.append(rec)\n",
        "        count += 1\n",
        "print(f\"sequências filtradas: {n-count}\")\n",
        "SeqIO.write(filtered_fasta, \"filtered.fasta\", \"fasta\")"
      ],
      "metadata": {
        "colab": {
          "base_uri": "https://localhost:8080/"
        },
        "id": "-m_cny2di2Is",
        "outputId": "9c9b09e6-067b-4055-faaf-5394d8ee36ea"
      },
      "execution_count": null,
      "outputs": [
        {
          "output_type": "stream",
          "name": "stdout",
          "text": [
            "sequências filtradas: 18\n"
          ]
        },
        {
          "output_type": "execute_result",
          "data": {
            "text/plain": [
              "815"
            ]
          },
          "metadata": {},
          "execution_count": 5
        }
      ]
    },
    {
      "cell_type": "markdown",
      "source": [
        "2b: Crie um CSV com id, length, gc para todas as sequências."
      ],
      "metadata": {
        "id": "vhV5see4jCL3"
      }
    },
    {
      "cell_type": "code",
      "source": [],
      "metadata": {
        "id": "Bsu4ZX2vjFUO"
      },
      "execution_count": null,
      "outputs": []
    },
    {
      "cell_type": "markdown",
      "source": [
        "# Exercício 3"
      ],
      "metadata": {
        "id": "VT8FnPgOjGPU"
      }
    },
    {
      "cell_type": "markdown",
      "source": [
        "**Objetivo**: Ler FASTQ, acessar qualidades Phrede filtrar de forma simples as sequências."
      ],
      "metadata": {
        "id": "5Lnk4zMZjJ0i"
      }
    },
    {
      "cell_type": "markdown",
      "source": [
        "Considere o código abaixo como base e exemplo para os exercícios a seguir:"
      ],
      "metadata": {
        "id": "XPDFlRIujXBa"
      }
    },
    {
      "cell_type": "code",
      "source": [
        "from Bio import SeqIO\n",
        "import statistics as stats\n",
        "\n",
        "in_fq = \"Exemplo_sequencias_R1.fastq\"  # troque pelo seu caminho\n",
        "\n",
        "qual_medias = []\n",
        "comprimentos = []\n",
        "for rec in SeqIO.parse(in_fq, \"fastq\"):  # assume FASTQ Sanger (Phred+33)\n",
        "    q = rec.letter_annotations[\"phred_quality\"]\n",
        "    qual_medias.append(sum(q)/len(q))\n",
        "    comprimentos.append(len(rec))\n",
        "print(\"reads:\", len(qual_medias),\n",
        "      \"| média das médias de Q:\", round(sum(qual_medias)/len(qual_medias), 2),\n",
        "      \"| tamanho médio:\", round(sum(comprimentos)/len(comprimentos), 1))"
      ],
      "metadata": {
        "id": "k4kIyYsZjYDz"
      },
      "execution_count": null,
      "outputs": []
    },
    {
      "cell_type": "markdown",
      "source": [
        "3a: Grave em `highq.fastq` apenas as reads com média de Q ≥ 25 e len ≥ 75."
      ],
      "metadata": {
        "id": "4UhBy3q0jfN5"
      }
    },
    {
      "cell_type": "code",
      "source": [],
      "metadata": {
        "id": "ELYw05yJjsUg"
      },
      "execution_count": null,
      "outputs": []
    },
    {
      "cell_type": "markdown",
      "source": [
        "3b (Desafio): Pegue todas as sequências do arquivo FASTQ e calcule a probabilidade média de erro (convertida a partir da fórmula do Phred) para cada posição da sequência.  \n",
        "Por exemplo, qual a chance de erro na posição 1 de todas as sequências? E na posição 2? Assim por diante.  \n",
        "Faça um histrograma da probabilidade média de erro por posição da sequência para identificar algum padrão (Quem identificar, me conta depois ;)"
      ],
      "metadata": {
        "id": "hqo9-JnJj671"
      }
    }
  ]
}