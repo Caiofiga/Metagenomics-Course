{
  "cells": [
    {
      "cell_type": "markdown",
      "metadata": {
        "id": "TTAZx3n4ZUtg"
      },
      "source": [
        "# Configurar o ambiente\n",
        "\n"
      ]
    },
    {
      "cell_type": "markdown",
      "metadata": {
        "id": "huKgT7mMgm91"
      },
      "source": [
        "Necessário apenas instalar a biblioteca biopython com PIP (porque o python já vem por padrão neste servidor)."
      ]
    },
    {
      "cell_type": "code",
      "execution_count": null,
      "metadata": {
        "colab": {
          "base_uri": "https://localhost:8080/"
        },
        "id": "VYcGdsW1bTsb",
        "outputId": "c8037f2a-ad2a-4678-fa11-2ee77d311740"
      },
      "outputs": [
        {
          "name": "stdout",
          "output_type": "stream",
          "text": [
            "Collecting biopython\n",
            "  Downloading biopython-1.85-cp311-cp311-manylinux_2_17_x86_64.manylinux2014_x86_64.whl.metadata (13 kB)\n",
            "Requirement already satisfied: numpy in /usr/local/lib/python3.11/dist-packages (from biopython) (2.0.2)\n",
            "Downloading biopython-1.85-cp311-cp311-manylinux_2_17_x86_64.manylinux2014_x86_64.whl (3.3 MB)\n",
            "\u001b[?25l   \u001b[90m━━━━━━━━━━━━━━━━━━━━━━━━━━━━━━━━━━━━━━━━\u001b[0m \u001b[32m0.0/3.3 MB\u001b[0m \u001b[31m?\u001b[0m eta \u001b[36m-:--:--\u001b[0m\r\u001b[2K   \u001b[91m━━━━━━━━━━━━━━━━━━━━━━━━━━━\u001b[0m\u001b[90m╺\u001b[0m\u001b[90m━━━━━━━━━━━━\u001b[0m \u001b[32m2.2/3.3 MB\u001b[0m \u001b[31m66.8 MB/s\u001b[0m eta \u001b[36m0:00:01\u001b[0m\r\u001b[2K   \u001b[90m━━━━━━━━━━━━━━━━━━━━━━━━━━━━━━━━━━━━━━━━\u001b[0m \u001b[32m3.3/3.3 MB\u001b[0m \u001b[31m52.9 MB/s\u001b[0m eta \u001b[36m0:00:00\u001b[0m\n",
            "\u001b[?25hInstalling collected packages: biopython\n",
            "Successfully installed biopython-1.85\n"
          ]
        }
      ],
      "source": []
    },
    {
      "cell_type": "markdown",
      "metadata": {
        "id": "Jrlnd1vpg1Mj"
      },
      "source": [
        "# Exercício 1"
      ]
    },
    {
      "cell_type": "markdown",
      "metadata": {
        "id": "VcgDiM7OiGxK"
      },
      "source": [
        "**Objetivo**: reconhecer operações essenciais de sequência (tamanho, slicing, GC, transcrição, tradução)."
      ]
    },
    {
      "cell_type": "markdown",
      "metadata": {
        "id": "oJMm_1BQhC91"
      },
      "source": [
        "Considere o código abaixo como base e exemplo para os exercícios a seguir:"
      ]
    },
    {
      "cell_type": "code",
      "execution_count": 1,
      "metadata": {
        "colab": {
          "base_uri": "https://localhost:8080/",
          "height": 384
        },
        "id": "fUlwr0x9e8NH",
        "outputId": "19f2aa84-0b04-4d92-85eb-62920284e541"
      },
      "outputs": [
        {
          "name": "stdout",
          "output_type": "stream",
          "text": [
            "len: 39\n",
            "primeiros 10 nt: ATGGCCATTG\n",
            "A: 9 C: 8 G: 14 T: 8\n",
            "revcomp: CTATCGGGCACCCTTTCAGCGGCCCATTACAATGGCCAT\n",
            "RNA: AUGGCCAUUGUAAUGGGCCGCUGAAAGGGUGCCCGAUAG\n",
            "Prot: MAIVMGR\n"
          ]
        }
      ],
      "source": [
        "from Bio.Seq import Seq\n",
        "seq = Seq(\"ATGGCCATTGTAATGGGCCGCTGAAAGGGTGCCCGATAG\")\n",
        "print(\"len:\", len(seq))\n",
        "print(\"primeiros 10 nt:\", seq[:10])\n",
        "print(\"A:\", seq.count(\"A\"), \"C:\", seq.count(\"C\"), \"G:\", seq.count(\"G\"), \"T:\", seq.count(\"T\"))\n",
        "\n",
        "revcomp = seq.reverse_complement()\n",
        "print(\"revcomp:\", revcomp)\n",
        "\n",
        "rna = seq.transcribe()\n",
        "prot = seq.translate(to_stop=True)\n",
        "print(\"RNA:\", rna)\n",
        "print(\"Prot:\", prot)"
      ]
    },
    {
      "cell_type": "markdown",
      "metadata": {
        "id": "sMyTHbfFfT3R"
      },
      "source": [
        "1a: Escreva uma função gc(seq) que retorne %GC com 2 casas."
      ]
    },
    {
      "cell_type": "code",
      "execution_count": 6,
      "metadata": {
        "id": "dlrBPPMje8HR"
      },
      "outputs": [
        {
          "data": {
            "text/plain": [
              "56.41"
            ]
          },
          "execution_count": 6,
          "metadata": {},
          "output_type": "execute_result"
        }
      ],
      "source": [
        "def gc(seq):\n",
        "    totalC = seq.count(\"C\")\n",
        "    totalG = seq.count(\"G\")\n",
        "    return round((totalG + totalC)/len(seq) * 100,2)\n",
        "x = gc(seq)\n",
        "x"
      ]
    },
    {
      "cell_type": "markdown",
      "metadata": {
        "id": "VphN08BlfzcA"
      },
      "source": [
        "1b: Agora teste em seq e em revcomp (o %GC muda? por quê?)"
      ]
    },
    {
      "cell_type": "code",
      "execution_count": 7,
      "metadata": {
        "id": "jAwzv0pSf-m-"
      },
      "outputs": [
        {
          "data": {
            "text/plain": [
              "56.41"
            ]
          },
          "execution_count": 7,
          "metadata": {},
          "output_type": "execute_result"
        }
      ],
      "source": [
        "y = gc(revcomp)\n",
        "y"
      ]
    },
    {
      "cell_type": "markdown",
      "metadata": {},
      "source": [
        "Nao, pois revcomp eh o par complementar de seq, e como o par de C eh G, nada muda"
      ]
    },
    {
      "cell_type": "markdown",
      "metadata": {
        "id": "ADkWfoGsf-21"
      },
      "source": [
        "1c (para casa): Verifique se seq contém o motivo GGG (use o operador in) e retorne as posições onde ocorre"
      ]
    },
    {
      "cell_type": "code",
      "execution_count": 9,
      "metadata": {
        "id": "uaPYKXVRgNn5"
      },
      "outputs": [
        {
          "name": "stdout",
          "output_type": "stream",
          "text": [
            "[14, 26]\n"
          ]
        }
      ],
      "source": [
        "motif = \"GGG\"\n",
        "positions = []\n",
        "start = 0\n",
        "while True:\n",
        "    pos = seq.find(motif, start)\n",
        "    if pos == -1:\n",
        "        break\n",
        "    positions.append(pos)\n",
        "    start = pos + 1\n",
        "print(positions)"
      ]
    },
    {
      "cell_type": "markdown",
      "metadata": {
        "id": "HYk2gpZmhfo3"
      },
      "source": [
        "# Exercício 2"
      ]
    },
    {
      "cell_type": "markdown",
      "metadata": {
        "id": "IOwKFVYphiY9"
      },
      "source": [
        "**Objetivo**: fazer parsing de FASTA, sumarizar, filtrar e gravar resultados."
      ]
    },
    {
      "cell_type": "markdown",
      "metadata": {
        "id": "U2z1lWzKiRCJ"
      },
      "source": [
        "Considere o código abaixo como base e exemplo para os exercícios a seguir:"
      ]
    },
    {
      "cell_type": "code",
      "execution_count": 10,
      "metadata": {
        "colab": {
          "base_uri": "https://localhost:8080/"
        },
        "id": "GUG44q1Phi1l",
        "outputId": "f6c9cd9a-2456-4cd6-bd78-62511c77d5f1"
      },
      "outputs": [
        {
          "name": "stdout",
          "output_type": "stream",
          "text": [
            "lidas 833 sequências\n",
            "tamanho médio: 18917.597839135655\n",
            "GC médio: 40.93000407855796\n"
          ]
        }
      ],
      "source": [
        "from Bio import SeqIO\n",
        "\n",
        "def gc(seq):\n",
        "    s = str(seq).upper()\n",
        "    return 100*(s.count(\"G\")+s.count(\"C\"))/len(s)\n",
        "\n",
        "in_fa = \"Genomas_filoviridae.fasta\"  # troque pelo seu caminho\n",
        "\n",
        "n = 0\n",
        "tamanhos, gcs = [], []\n",
        "for rec in SeqIO.parse(in_fa, \"fasta\"):\n",
        "    n += 1\n",
        "    tamanhos.append(len(rec.seq))\n",
        "    gcs.append(gc(rec.seq))\n",
        "print(f\"lidas {n} sequências\")\n",
        "print(\"tamanho médio:\", sum(tamanhos)/len(tamanhos))\n",
        "print(\"GC médio:\", sum(gcs)/len(gcs))"
      ]
    },
    {
      "cell_type": "markdown",
      "metadata": {
        "id": "rExeHRkZijQq"
      },
      "source": [
        "2a: Pesquisando em um livro de virologia, você descobriu que o genoma completo de Filovirus deve ser sempre maior do que 18700 nucleotídeos. Filtre e salve em `filtered.fasta` apenas as sequências de genoma completo de Filoviridae. Quantas sequências foram removidas por não serem genomas completos?"
      ]
    },
    {
      "cell_type": "code",
      "execution_count": 11,
      "metadata": {
        "colab": {
          "base_uri": "https://localhost:8080/"
        },
        "id": "-m_cny2di2Is",
        "outputId": "9c9b09e6-067b-4055-faaf-5394d8ee36ea"
      },
      "outputs": [
        {
          "name": "stdout",
          "output_type": "stream",
          "text": [
            "sequências filtradas: 18\n"
          ]
        },
        {
          "data": {
            "text/plain": [
              "815"
            ]
          },
          "execution_count": 11,
          "metadata": {},
          "output_type": "execute_result"
        }
      ],
      "source": [
        "filtered_fasta = []\n",
        "count = 0\n",
        "for rec in SeqIO.parse(in_fa, \"fasta\"):\n",
        "    if len(rec.seq) >= 18700:\n",
        "        filtered_fasta.append(rec)\n",
        "        count += 1\n",
        "print(f\"sequências filtradas: {n-count}\")\n",
        "SeqIO.write(filtered_fasta, \"filtered.fasta\", \"fasta\")"
      ]
    },
    {
      "cell_type": "markdown",
      "metadata": {
        "id": "vhV5see4jCL3"
      },
      "source": [
        "2b: Crie um CSV com id, length, gc para todas as sequências."
      ]
    },
    {
      "cell_type": "code",
      "execution_count": 15,
      "metadata": {
        "id": "Bsu4ZX2vjFUO"
      },
      "outputs": [],
      "source": [
        "import pandas as pd\n",
        "\n",
        "\n",
        "rows = []\n",
        "for rec in SeqIO.parse(\"filtered.fasta\", \"fasta\"):\n",
        "        rows.append({\n",
        "        \"id\": rec.id,\n",
        "        \"length\": len(rec.seq),\n",
        "        \"gc\": round(gc(rec.seq), 2)  \n",
        "    })\n",
        "df = pd.DataFrame(rows)\n",
        "with open(\"filtered.csv\", \"w\") as f:\n",
        "    f.write(df.to_csv(index=False))\n",
        "    "
      ]
    },
    {
      "cell_type": "markdown",
      "metadata": {
        "id": "VT8FnPgOjGPU"
      },
      "source": [
        "# Exercício 3"
      ]
    },
    {
      "cell_type": "markdown",
      "metadata": {
        "id": "5Lnk4zMZjJ0i"
      },
      "source": [
        "**Objetivo**: Ler FASTQ, acessar qualidades Phrede filtrar de forma simples as sequências."
      ]
    },
    {
      "cell_type": "markdown",
      "metadata": {
        "id": "XPDFlRIujXBa"
      },
      "source": [
        "Considere o código abaixo como base e exemplo para os exercícios a seguir:"
      ]
    },
    {
      "cell_type": "code",
      "execution_count": 16,
      "metadata": {
        "id": "k4kIyYsZjYDz"
      },
      "outputs": [
        {
          "name": "stdout",
          "output_type": "stream",
          "text": [
            "reads: 110185 | média das médias de Q: 33.42 | tamanho médio: 115.1\n"
          ]
        }
      ],
      "source": [
        "from Bio import SeqIO\n",
        "import statistics as stats\n",
        "\n",
        "in_fq = \"Exemplo_sequencias_R1.fastq\"  # troque pelo seu caminho\n",
        "\n",
        "qual_medias = []\n",
        "comprimentos = []\n",
        "for rec in SeqIO.parse(in_fq, \"fastq\"):  # assume FASTQ Sanger (Phred+33)\n",
        "    q = rec.letter_annotations[\"phred_quality\"]\n",
        "    qual_medias.append(sum(q)/len(q))\n",
        "    comprimentos.append(len(rec))\n",
        "print(\"reads:\", len(qual_medias),\n",
        "      \"| média das médias de Q:\", round(sum(qual_medias)/len(qual_medias), 2),\n",
        "      \"| tamanho médio:\", round(sum(comprimentos)/len(comprimentos), 1))"
      ]
    },
    {
      "cell_type": "markdown",
      "metadata": {
        "id": "4UhBy3q0jfN5"
      },
      "source": [
        "3a: Grave em `highq.fastq` apenas as reads com média de Q ≥ 25 e len ≥ 75."
      ]
    },
    {
      "cell_type": "code",
      "execution_count": null,
      "metadata": {
        "id": "ELYw05yJjsUg"
      },
      "outputs": [
        {
          "ename": "TypeError",
          "evalue": "write() argument must be str, not SeqRecord",
          "output_type": "error",
          "traceback": [
            "\u001b[31m---------------------------------------------------------------------------\u001b[39m",
            "\u001b[31mTypeError\u001b[39m                                 Traceback (most recent call last)",
            "\u001b[36mCell\u001b[39m\u001b[36m \u001b[39m\u001b[32mIn[19]\u001b[39m\u001b[32m, line 5\u001b[39m\n\u001b[32m      3\u001b[39m q = rec.letter_annotations[\u001b[33m\"\u001b[39m\u001b[33mphred_quality\u001b[39m\u001b[33m\"\u001b[39m]\n\u001b[32m      4\u001b[39m \u001b[38;5;28;01mif\u001b[39;00m \u001b[38;5;28msum\u001b[39m(q)/\u001b[38;5;28mlen\u001b[39m(q) >= \u001b[32m25\u001b[39m \u001b[38;5;129;01mand\u001b[39;00m \u001b[38;5;28mlen\u001b[39m(rec) <= \u001b[32m75\u001b[39m:\n\u001b[32m----> \u001b[39m\u001b[32m5\u001b[39m     \u001b[43mf\u001b[49m\u001b[43m.\u001b[49m\u001b[43mwrite\u001b[49m\u001b[43m(\u001b[49m\u001b[43mrec\u001b[49m\u001b[43m)\u001b[49m\n",
            "\u001b[31mTypeError\u001b[39m: write() argument must be str, not SeqRecord"
          ]
        }
      ],
      "source": [
        "with open(\"highq.fastq\", \"w\") as f:\n",
        "    for rec in SeqIO.parse(in_fq, \"fastq\"):\n",
        "        q = rec.letter_annotations[\"phred_quality\"]\n",
        "        if sum(q)/len(q) >= 25 and len(rec) <= 75:\n",
        "            f.write(rec)\n",
        "        "
      ]
    },
    {
      "cell_type": "markdown",
      "metadata": {
        "id": "hqo9-JnJj671"
      },
      "source": [
        "3b (Desafio): Pegue todas as sequências do arquivo FASTQ e calcule a probabilidade média de erro (convertida a partir da fórmula do Phred) para cada posição da sequência.  \n",
        "Por exemplo, qual a chance de erro na posição 1 de todas as sequências? E na posição 2? Assim por diante.  \n",
        "Faça um histrograma da probabilidade média de erro por posição da sequência para identificar algum padrão (Quem identificar, me conta depois ;)"
      ]
    }
  ],
  "metadata": {
    "colab": {
      "provenance": []
    },
    "kernelspec": {
      "display_name": "env",
      "language": "python",
      "name": "python3"
    },
    "language_info": {
      "codemirror_mode": {
        "name": "ipython",
        "version": 3
      },
      "file_extension": ".py",
      "mimetype": "text/x-python",
      "name": "python",
      "nbconvert_exporter": "python",
      "pygments_lexer": "ipython3",
      "version": "3.13.7"
    }
  },
  "nbformat": 4,
  "nbformat_minor": 0
}
