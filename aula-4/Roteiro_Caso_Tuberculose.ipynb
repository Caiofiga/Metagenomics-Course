{
  "cells": [
    {
      "cell_type": "markdown",
      "metadata": {
        "id": "TWZgol8BGeIU"
      },
      "source": [
        "# 0. Configuração de Ambiente **padrão**"
      ]
    },
    {
      "cell_type": "code",
      "execution_count": 4,
      "metadata": {
        "colab": {
          "base_uri": "https://localhost:8080/"
        },
        "collapsed": true,
        "id": "7AAbue9bEe0m",
        "outputId": "27c69b07-ee06-4ae1-83bb-39ca68396a01"
      },
      "outputs": [
        {
          "name": "stdout",
          "output_type": "stream",
          "text": [
            "WARNING: The MAMBA_ROOT_PREFIX environment variable is not set.\n",
            "WARNING: This is required for mamba to work correctly as of 2.0.\n",
            "WARNING: \n",
            "WARNING: For now, we are setting 'MAMBA_ROOT_PREFIX' to '/usr'.\n",
            "WARNING: \n",
            "WARNING: Please make sure this is consistent with your installation or alternatively (by order of preference):\n",
            "WARNING:   - rerun 'mamba shell init' to initialize mamba for your current shell\n",
            "WARNING:   - manually set 'MAMBA_ROOT_PREFIX' to the root of your installation in your shell profile script.\n",
            "WARNING:   - use the '-r,--root-prefix' CLI option when calling mamba.\n",
            "WARNING: \n",
            "WARNING: This message originates from /usr/etc/profile.d/mamba.sh\n"
          ]
        }
      ],
      "source": [
        "%%bash\n",
        "cd ..\n",
        "source ./activateEnv.sh"
      ]
    },
    {
      "cell_type": "code",
      "execution_count": 7,
      "metadata": {
        "colab": {
          "base_uri": "https://localhost:8080/"
        },
        "collapsed": true,
        "id": "6o9JEhp6F0JD",
        "outputId": "6882f830-9e63-4724-e451-55581fa8f722"
      },
      "outputs": [
        {
          "name": "stdout",
          "output_type": "stream",
          "text": [
            "conda-forge/linux-64                                        Using cache\n",
            "conda-forge/noarch                                          Using cache\n",
            "bioconda/linux-64                                           Using cache\n",
            "bioconda/noarch                                             Using cache\n",
            "pkgs/main/linux-64                                          Using cache\n",
            "pkgs/main/noarch                                            Using cache\n",
            "pkgs/r/linux-64                                             Using cache\n",
            "pkgs/r/noarch                                               Using cache\n"
          ]
        },
        {
          "name": "stderr",
          "output_type": "stream",
          "text": [
            "warning  libmamba 'repo.anaconda.com', a commercial channel hosted by Anaconda.com, is used.\n",
            "    \n",
            "warning  libmamba Please make sure you understand Anaconda Terms of Services.\n",
            "    \n",
            "warning  libmamba See: https://legal.anaconda.com/policies/en/\n"
          ]
        },
        {
          "name": "stdout",
          "output_type": "stream",
          "text": [
            "\n",
            "Pinned packages:\n",
            "\n",
            "  - python=3.10\n",
            "\n"
          ]
        },
        {
          "name": "stderr",
          "output_type": "stream",
          "text": [
            "error    libmamba Could not create directory '/usr/pkgs': Permission denied\n"
          ]
        },
        {
          "name": "stdout",
          "output_type": "stream",
          "text": [
            "\n",
            "Transaction\n",
            "\n",
            "  Prefix: /home/figa/Documents/Programming/VSCode/Metagenomics-Course/env\n",
            "\n",
            "  All requested packages already installed\n",
            "\n",
            "\n",
            "Transaction starting\n",
            "\n",
            "Transaction finished\n",
            "\n"
          ]
        }
      ],
      "source": [
        "%%bash\n",
        "# Instalar os software que vamos usar nesta prática\n",
        "mamba install -c conda-forge -c bioconda -c defaults fastqc bwa freebayes cutadapt samtools vcflib -y"
      ]
    },
    {
      "cell_type": "code",
      "execution_count": 8,
      "metadata": {
        "colab": {
          "base_uri": "https://localhost:8080/"
        },
        "collapsed": true,
        "id": "pitt-DPDF0GC",
        "outputId": "1fb18e6a-d5d1-4e97-c457-4afee628e9da"
      },
      "outputs": [
        {
          "name": "stdout",
          "output_type": "stream",
          "text": [
            "\n",
            "            FastQC - A high throughput sequence QC analysis tool\n",
            "\n",
            "SYNOPSIS\n",
            "\n",
            "\tfastqc seqfile1 seqfile2 .. seqfileN\n",
            "\n",
            "    fastqc [-o output dir] [--(no)extract] [-f fastq|bam|sam] \n",
            "           [-c contaminant file] seqfile1 .. seqfileN\n",
            "\n",
            "DESCRIPTION\n",
            "\n",
            "    FastQC reads a set of sequence files and produces from each one a quality\n",
            "    control report consisting of a number of different modules, each one of \n",
            "    which will help to identify a different potential type of problem in your\n",
            "    data.\n",
            "    \n",
            "    If no files to process are specified on the command line then the program\n",
            "    will start as an interactive graphical application.  If files are provided\n",
            "    on the command line then the program will run with no user interaction\n",
            "    required.  In this mode it is suitable for inclusion into a standardised\n",
            "    analysis pipeline.\n",
            "    \n",
            "    The options for the program as as follows:\n",
            "    \n",
            "    -h --help       Print this help file and exit\n",
            "    \n",
            "    -v --version    Print the version of the program and exit\n",
            "    \n",
            "    -o --outdir     Create all output files in the specified output directory.\n",
            "                    Please note that this directory must exist as the program\n",
            "                    will not create it.  If this option is not set then the \n",
            "                    output file for each sequence file is created in the same\n",
            "                    directory as the sequence file which was processed.\n",
            "                    \n",
            "    --casava        Files come from raw casava output. Files in the same sample\n",
            "                    group (differing only by the group number) will be analysed\n",
            "                    as a set rather than individually. Sequences with the filter\n",
            "                    flag set in the header will be excluded from the analysis.\n",
            "                    Files must have the same names given to them by casava\n",
            "                    (including being gzipped and ending with .gz) otherwise they\n",
            "                    won't be grouped together correctly.\n",
            "                    \n",
            "    --nano          Files come from nanopore sequences and are in fast5 format. In\n",
            "                    this mode you can pass in directories to process and the program\n",
            "                    will take in all fast5 files within those directories and produce\n",
            "                    a single output file from the sequences found in all files.                    \n",
            "                    \n",
            "    --nofilter      If running with --casava then don't remove read flagged by\n",
            "                    casava as poor quality when performing the QC analysis.\n",
            "                   \n",
            "    --extract       If set then the zipped output file will be uncompressed in\n",
            "                    the same directory after it has been created. If --delete is \n",
            "                    also specified then the zip file will be removed after the \n",
            "                    contents are unzipped. \n",
            "                    \n",
            "    -j --java       Provides the full path to the java binary you want to use to\n",
            "                    launch fastqc. If not supplied then java is assumed to be in\n",
            "                    your path.\n",
            "                   \n",
            "    --noextract     Do not uncompress the output file after creating it.  You\n",
            "                    should set this option if you do not wish to uncompress\n",
            "                    the output when running in non-interactive mode.\n",
            "                    \n",
            "    --nogroup       Disable grouping of bases for reads >50bp. All reports will\n",
            "                    show data for every base in the read.  WARNING: Using this\n",
            "                    option will cause fastqc to crash and burn if you use it on\n",
            "                    really long reads, and your plots may end up a ridiculous size.\n",
            "                    You have been warned!\n",
            "                    \n",
            "    --min_length    Sets an artificial lower limit on the length of the sequence\n",
            "                    to be shown in the report.  As long as you set this to a value\n",
            "                    greater or equal to your longest read length then this will be\n",
            "                    the sequence length used to create your read groups.  This can\n",
            "                    be useful for making directly comaparable statistics from \n",
            "                    datasets with somewhat variable read lengths.\n",
            "\n",
            "    --dup_length    Sets a length to which the sequences will be truncated when \n",
            "                    defining them to be duplicates, affecting the duplication and\n",
            "                    overrepresented sequences plot.  This can be useful if you have\n",
            "                    long reads with higher levels of miscalls, or contamination with\n",
            "                    adapter dimers containing UMI sequences.\n",
            "\n",
            "                    \n",
            "    -f --format     Bypasses the normal sequence file format detection and\n",
            "                    forces the program to use the specified format.  Valid\n",
            "                    formats are bam,sam,bam_mapped,sam_mapped and fastq\n",
            "                    \n",
            "\n",
            "    --memory        Sets the base amount of memory, in Megabytes, used to process \n",
            "                    each file.  Defaults to 512MB.  You may need to increase this if\n",
            "                    you have a file with very long sequences in it.\n",
            "                \n",
            "    --svg           Save the graphs in the report in SVG format.\n",
            "\n",
            "    -t --threads    Specifies the number of files which can be processed\n",
            "                    simultaneously.  Each thread will be allocated 250MB of\n",
            "                    memory so you shouldn't run more threads than your\n",
            "                    available memory will cope with, and not more than\n",
            "                    6 threads on a 32 bit machine\n",
            "                  \n",
            "    -c              Specifies a non-default file which contains the list of\n",
            "    --contaminants  contaminants to screen overrepresented sequences against.\n",
            "                    The file must contain sets of named contaminants in the\n",
            "                    form name[tab]sequence.  Lines prefixed with a hash will\n",
            "                    be ignored.\n",
            "\n",
            "    -a              Specifies a non-default file which contains the list of\n",
            "    --adapters      adapter sequences which will be explicity searched against\n",
            "                    the library. The file must contain sets of named adapters\n",
            "                    in the form name[tab]sequence.  Lines prefixed with a hash\n",
            "                    will be ignored.\n",
            "                    \n",
            "    -l              Specifies a non-default file which contains a set of criteria\n",
            "    --limits        which will be used to determine the warn/error limits for the\n",
            "                    various modules.  This file can also be used to selectively \n",
            "                    remove some modules from the output all together.  The format\n",
            "                    needs to mirror the default limits.txt file found in the\n",
            "                    Configuration folder.\n",
            "                    \n",
            "   -k --kmers       Specifies the length of Kmer to look for in the Kmer content\n",
            "                    module. Specified Kmer length must be between 2 and 10. Default\n",
            "                    length is 7 if not specified.\n",
            "                    \n",
            "   -q --quiet       Suppress all progress messages on stdout and only report errors.\n",
            "   \n",
            "   -d --dir         Selects a directory to be used for temporary files written when\n",
            "                    generating report images. Defaults to system temp directory if\n",
            "                    not specified.\n",
            "                    \n",
            "BUGS\n",
            "\n",
            "    Any bugs in fastqc should be reported either to simon.andrews@babraham.ac.uk\n",
            "    or in www.bioinformatics.babraham.ac.uk/bugzilla/\n",
            "                   \n",
            "    \n"
          ]
        }
      ],
      "source": [
        "%%bash\n",
        "# Checa se a instalação ocorreu de acordo (vai printar a documentação da ferramenta)\n",
        "fastqc --help"
      ]
    },
    {
      "cell_type": "code",
      "execution_count": 9,
      "metadata": {
        "id": "t9MWHnkWgwWz"
      },
      "outputs": [],
      "source": [
        "%%bash\n",
        "# Criar as pastas para organizar os arquivos que serão gerados\n",
        "mkdir fastqc cutadapt bwa freebayes"
      ]
    },
    {
      "cell_type": "markdown",
      "metadata": {
        "id": "M3Qa1e89yRrL"
      },
      "source": [
        "## Check-point\n",
        "Antes de seguir, verifique se as pastas foram criadas. Os arquivos fastqs dos pacientes 1 e 2 devem estar fora da pasta (4 arquivos) e o arquivo fasta da referência deve estar dentro da pasta bwa/. Execute o código abaixo para mover o arquivo reference.fasta para a pasta correta."
      ]
    },
    {
      "cell_type": "code",
      "execution_count": 10,
      "metadata": {
        "id": "Cq1XwMgQywR_"
      },
      "outputs": [],
      "source": [
        "%%bash\n",
        "mv reference.fasta bwa/"
      ]
    },
    {
      "cell_type": "markdown",
      "metadata": {
        "id": "HbFjonTRGvxV"
      },
      "source": [
        "# 1. Controle de Qualidade"
      ]
    },
    {
      "cell_type": "markdown",
      "metadata": {
        "id": "lumjEidNzQJE"
      },
      "source": [
        "A partir de agora, serão realizados todos os comandos para o ```patient1```. Ao terminar, você precisará fazer o mesmo para o ```patient2```."
      ]
    },
    {
      "cell_type": "code",
      "execution_count": 11,
      "metadata": {
        "colab": {
          "base_uri": "https://localhost:8080/"
        },
        "id": "bwZ6imuMZesX",
        "outputId": "a39c0858-e1da-4ef0-d23c-01f0d5bedcc3"
      },
      "outputs": [
        {
          "name": "stdout",
          "output_type": "stream",
          "text": [
            "application/gzip\n",
            "application/gzip\n"
          ]
        },
        {
          "name": "stderr",
          "output_type": "stream",
          "text": [
            "Started analysis of patient1_R1.fastq.gz\n",
            "Approx 5% complete for patient1_R1.fastq.gz\n",
            "Approx 10% complete for patient1_R1.fastq.gz\n",
            "Approx 15% complete for patient1_R1.fastq.gz\n",
            "Approx 20% complete for patient1_R1.fastq.gz\n",
            "Approx 25% complete for patient1_R1.fastq.gz\n",
            "Approx 30% complete for patient1_R1.fastq.gz\n",
            "Approx 35% complete for patient1_R1.fastq.gz\n",
            "Approx 40% complete for patient1_R1.fastq.gz\n",
            "Approx 45% complete for patient1_R1.fastq.gz\n",
            "Approx 50% complete for patient1_R1.fastq.gz\n",
            "Approx 55% complete for patient1_R1.fastq.gz\n",
            "Approx 60% complete for patient1_R1.fastq.gz\n",
            "Approx 65% complete for patient1_R1.fastq.gz\n",
            "Approx 70% complete for patient1_R1.fastq.gz\n",
            "Approx 75% complete for patient1_R1.fastq.gz\n",
            "Approx 80% complete for patient1_R1.fastq.gz\n",
            "Approx 85% complete for patient1_R1.fastq.gz\n",
            "Approx 90% complete for patient1_R1.fastq.gz\n",
            "Approx 95% complete for patient1_R1.fastq.gz\n",
            "Approx 100% complete for patient1_R1.fastq.gz\n"
          ]
        },
        {
          "name": "stdout",
          "output_type": "stream",
          "text": [
            "Analysis complete for patient1_R1.fastq.gz\n"
          ]
        },
        {
          "name": "stderr",
          "output_type": "stream",
          "text": [
            "Started analysis of patient1_R2.fastq.gz\n",
            "Approx 5% complete for patient1_R2.fastq.gz\n",
            "Approx 10% complete for patient1_R2.fastq.gz\n",
            "Approx 15% complete for patient1_R2.fastq.gz\n",
            "Approx 20% complete for patient1_R2.fastq.gz\n",
            "Approx 25% complete for patient1_R2.fastq.gz\n",
            "Approx 30% complete for patient1_R2.fastq.gz\n",
            "Approx 35% complete for patient1_R2.fastq.gz\n",
            "Approx 40% complete for patient1_R2.fastq.gz\n",
            "Approx 45% complete for patient1_R2.fastq.gz\n",
            "Approx 50% complete for patient1_R2.fastq.gz\n",
            "Approx 55% complete for patient1_R2.fastq.gz\n",
            "Approx 60% complete for patient1_R2.fastq.gz\n",
            "Approx 65% complete for patient1_R2.fastq.gz\n",
            "Approx 70% complete for patient1_R2.fastq.gz\n",
            "Approx 75% complete for patient1_R2.fastq.gz\n",
            "Approx 80% complete for patient1_R2.fastq.gz\n",
            "Approx 85% complete for patient1_R2.fastq.gz\n",
            "Approx 90% complete for patient1_R2.fastq.gz\n",
            "Approx 95% complete for patient1_R2.fastq.gz\n",
            "Approx 100% complete for patient1_R2.fastq.gz\n"
          ]
        },
        {
          "name": "stdout",
          "output_type": "stream",
          "text": [
            "Analysis complete for patient1_R2.fastq.gz\n"
          ]
        }
      ],
      "source": [
        "%%bash\n",
        "# Gerar o relatório da qualidade dos reads de sequenciamento\n",
        "fastqc -o fastqc/ patient1_R1.fastq.gz patient1_R2.fastq.gz"
      ]
    },
    {
      "cell_type": "code",
      "execution_count": 25,
      "metadata": {
        "colab": {
          "base_uri": "https://localhost:8080/"
        },
        "id": "t_JPX-mNF0AS",
        "outputId": "d4f9ba0c-903e-4dee-b80a-575dfb807d7a"
      },
      "outputs": [
        {
          "name": "stdout",
          "output_type": "stream",
          "text": [
            "This is cutadapt 5.1 with Python 3.10.18\n",
            "Command line parameters: -u 5 -U 5 -u -5 -U -5 -m 90 -o cutadapt/patient1-trimmed_R1.fastq.gz -p cutadapt/patient1-trimmed_R2.fastq.gz patient1_R1.fastq.gz patient1_R2.fastq.gz\n",
            "Processing paired-end reads on 1 core ...\n",
            "\n",
            "=== Summary ===\n",
            "\n",
            "Total read pairs processed:            100,000\n",
            "\n",
            "== Read fate breakdown ==\n",
            "Pairs that were too short:                   0 (0.0%)\n",
            "Pairs written (passing filters):       100,000 (100.0%)\n",
            "\n",
            "Total basepairs processed:    29,995,442 bp\n",
            "  Read 1:    14,996,808 bp\n",
            "  Read 2:    14,998,634 bp\n",
            "Total written (filtered):     27,995,442 bp (93.3%)\n",
            "  Read 1:    13,996,808 bp\n",
            "  Read 2:    13,998,634 bp\n"
          ]
        }
      ],
      "source": [
        "%%bash\n",
        "# Filtrar sequências muito pequenas e cortar as pontas\n",
        "cutadapt \\\n",
        "  -u 5 -U 5 \\\n",
        "  -u -5 -U -5 \\\n",
        "  -m 90 \\\n",
        "  -o cutadapt/patient1-trimmed_R1.fastq.gz \\\n",
        "  -p cutadapt/patient1-trimmed_R2.fastq.gz \\\n",
        "  patient1_R1.fastq.gz \\\n",
        "  patient1_R2.fastq.gz"
      ]
    },
    {
      "cell_type": "markdown",
      "metadata": {
        "id": "BM8nNpY300ut"
      },
      "source": [
        "# 2. Alinhamento"
      ]
    },
    {
      "cell_type": "code",
      "execution_count": 26,
      "metadata": {
        "colab": {
          "base_uri": "https://localhost:8080/"
        },
        "id": "JMy4lg1tcIjd",
        "outputId": "72598ce1-5cd7-4f5c-cf35-c0e855e1df9e"
      },
      "outputs": [
        {
          "name": "stderr",
          "output_type": "stream",
          "text": [
            "[bwa_index] Pack FASTA... 0.01 sec\n",
            "[bwa_index] Construct BWT for the packed sequence...\n",
            "[bwa_index] 0.44 seconds elapse.\n",
            "[bwa_index] Update BWT... 0.01 sec\n",
            "[bwa_index] Pack forward-only FASTA... 0.01 sec\n",
            "[bwa_index] Construct SA from BWT and Occ... 0.16 sec\n",
            "[main] Version: 0.7.19-r1273\n",
            "[main] CMD: bwa index bwa/reference.fasta\n",
            "[main] Real time: 0.653 sec; CPU: 0.624 sec\n"
          ]
        }
      ],
      "source": [
        "%%bash\n",
        "# Prepara o genoma de referência para realizar o alinhamento\n",
        "bwa index bwa/reference.fasta"
      ]
    },
    {
      "cell_type": "code",
      "execution_count": 27,
      "metadata": {
        "colab": {
          "base_uri": "https://localhost:8080/"
        },
        "id": "AO_2gLXCcIZe",
        "outputId": "eb42aefd-d0bc-405e-e847-dc9ba7715dab"
      },
      "outputs": [
        {
          "name": "stderr",
          "output_type": "stream",
          "text": [
            "[M::bwa_idx_load_from_disk] read 0 ALT contigs\n",
            "[M::process] read 71456 sequences (10000202 bp)...\n",
            "[M::process] read 71444 sequences (10000242 bp)...\n",
            "[M::mem_pestat] # candidate unique pairs for (FF, FR, RF, RR): (0, 0, 0, 0)\n",
            "[M::mem_pestat] skip orientation FF as there are not enough pairs\n",
            "[M::mem_pestat] skip orientation FR as there are not enough pairs\n",
            "[M::mem_pestat] skip orientation RF as there are not enough pairs\n",
            "[M::mem_pestat] skip orientation RR as there are not enough pairs\n",
            "[M::mem_process_seqs] Processed 71456 reads in 1.890 CPU sec, 1.811 real sec\n",
            "[M::process] read 57100 sequences (7994998 bp)...\n",
            "[M::mem_pestat] # candidate unique pairs for (FF, FR, RF, RR): (0, 0, 0, 0)\n",
            "[M::mem_pestat] skip orientation FF as there are not enough pairs\n",
            "[M::mem_pestat] skip orientation FR as there are not enough pairs\n",
            "[M::mem_pestat] skip orientation RF as there are not enough pairs\n",
            "[M::mem_pestat] skip orientation RR as there are not enough pairs\n",
            "[M::mem_process_seqs] Processed 71444 reads in 1.888 CPU sec, 1.817 real sec\n",
            "[M::mem_pestat] # candidate unique pairs for (FF, FR, RF, RR): (0, 0, 0, 0)\n",
            "[M::mem_pestat] skip orientation FF as there are not enough pairs\n",
            "[M::mem_pestat] skip orientation FR as there are not enough pairs\n",
            "[M::mem_pestat] skip orientation RF as there are not enough pairs\n",
            "[M::mem_pestat] skip orientation RR as there are not enough pairs\n",
            "[M::mem_process_seqs] Processed 57100 reads in 1.467 CPU sec, 1.457 real sec\n",
            "[main] Version: 0.7.19-r1273\n",
            "[main] CMD: bwa mem bwa/reference.fasta cutadapt/patient1-trimmed_R1.fastq.gz cutadapt/patient1-trimmed_R2.fastq.gz\n",
            "[main] Real time: 5.177 sec; CPU: 5.335 sec\n"
          ]
        }
      ],
      "source": [
        "%%bash\n",
        "# Fazer o alinhamento das sequências limpas contra o genoma de referência\n",
        "bwa mem bwa/reference.fasta cutadapt/patient1-trimmed_R1.fastq.gz \\\n",
        "cutadapt/patient1-trimmed_R2.fastq.gz \\\n",
        "| samtools sort -o bwa/patient1.bam"
      ]
    },
    {
      "cell_type": "markdown",
      "metadata": {
        "id": "H209G3jV04iX"
      },
      "source": [
        "# 3. Chamada de Variantes"
      ]
    },
    {
      "cell_type": "code",
      "execution_count": 28,
      "metadata": {
        "colab": {
          "base_uri": "https://localhost:8080/"
        },
        "id": "0O3PzPfeeJnE",
        "outputId": "5443a4db-a612-4b86-e8ec-c0a6641bf0a4"
      },
      "outputs": [
        {
          "name": "stderr",
          "output_type": "stream",
          "text": [
            "ERROR(freebayes): Could not get first alignment from target\n"
          ]
        }
      ],
      "source": [
        "%%bash\n",
        "# Chamada de variantes (diferenças entre o genoma de referência e a amostra do paciente)\n",
        "freebayes -f bwa/reference.fasta -p 1 bwa/patient1.bam -v freebayes/patient1-variants.vcf"
      ]
    },
    {
      "cell_type": "code",
      "execution_count": 36,
      "metadata": {},
      "outputs": [
        {
          "name": "stdout",
          "output_type": "stream",
          "text": [
            "     26 172\n",
            "     15 173\n",
            "     16 174\n",
            "      3 175\n",
            "      6 176\n",
            "      5 177\n",
            "      2 178\n",
            "      1 179\n",
            "      2 181\n",
            "      1 183\n",
            "     12 174\n",
            "     13 175\n",
            "      4 176\n",
            "      1 177\n",
            "      3 178\n",
            "      1 179\n",
            "      1 180\n",
            "      1 183\n",
            "      1 187\n",
            "      1 188\n",
            "-rw-r--r-- 1 figa figa 4.3M Oct 10 19:46 bwa/reference.fasta\n",
            "-rw-r--r-- 1 figa figa   12 Oct 10 20:16 bwa/reference.fasta.amb\n",
            "-rw-r--r-- 1 figa figa   89 Oct 10 20:16 bwa/reference.fasta.ann\n",
            "-rw-r--r-- 1 figa figa 4.3M Oct 10 20:16 bwa/reference.fasta.bwt\n",
            "-rw-r--r-- 1 figa figa   29 Oct 10 20:08 bwa/reference.fasta.fai\n",
            "-rw-r--r-- 1 figa figa 1.1M Oct 10 20:16 bwa/reference.fasta.pac\n",
            "-rw-r--r-- 1 figa figa 2.2M Oct 10 20:16 bwa/reference.fasta.sa\n"
          ]
        },
        {
          "name": "stderr",
          "output_type": "stream",
          "text": [
            "[bwa_index] Pack FASTA... 0.01 sec\n",
            "[bwa_index] Construct BWT for the packed sequence...\n",
            "[bwa_index] 0.43 seconds elapse.\n",
            "[bwa_index] Update BWT... 0.01 sec\n",
            "[bwa_index] Pack forward-only FASTA... 0.01 sec\n",
            "[bwa_index] Construct SA from BWT and Occ... 0.16 sec\n",
            "[main] Version: 0.7.19-r1273\n",
            "[main] CMD: bwa index bwa/reference.fasta\n",
            "[main] Real time: 0.640 sec; CPU: 0.613 sec\n"
          ]
        },
        {
          "name": "stdout",
          "output_type": "stream",
          "text": [
            ">NC_000962.3 Mycobacterium tuberculosis H37Rv, complete genome\n",
            "@SQ\tSN:NC_000962.3\tLN:4411532\n",
            "200000 + 0 in total (QC-passed reads + QC-failed reads)\n",
            "200000 + 0 primary\n",
            "0 + 0 secondary\n",
            "0 + 0 supplementary\n",
            "0 + 0 duplicates\n",
            "0 + 0 primary duplicates\n",
            "0 + 0 mapped (0.00% : N/A)\n",
            "0 + 0 primary mapped (0.00% : N/A)\n",
            "200000 + 0 paired in sequencing\n",
            "100000 + 0 read1\n",
            "100000 + 0 read2\n",
            "0 + 0 properly paired (0.00% : N/A)\n",
            "0 + 0 with itself and mate mapped\n",
            "0 + 0 singletons (0.00% : N/A)\n",
            "0 + 0 with mate mapped to a different chr\n",
            "0 + 0 with mate mapped to a different chr (mapQ>=5)\n",
            "0\n",
            "200000\n"
          ]
        }
      ],
      "source": [
        "%%bash\n",
        "zcat cutadapt/patient1-trimmed_R1.fastq.gz | awk 'NR%4==2{print length}' | sort -n | uniq -c | tail\n",
        "zcat cutadapt/patient1-trimmed_R2.fastq.gz | awk 'NR%4==2{print length}' | sort -n | uniq -c | tail\n",
        "ls -lh bwa/reference.fasta*\n",
        "bwa index bwa/reference.fasta   # (only if .amb/.ann/.bwt… missing)\n",
        "grep '^>' bwa/reference.fasta | head\n",
        "samtools view -H bwa/patient1.bam | grep '^@SQ'\n",
        "samtools flagstat bwa/patient1.bam\n",
        "samtools view -c -F 4 bwa/patient1.bam   # mapped\n",
        "samtools view -c -f 4 bwa/patient1.bam   # unmapped\n",
        "\n",
        "\n",
        "\n",
        "\n"
      ]
    },
    {
      "cell_type": "code",
      "execution_count": null,
      "metadata": {
        "id": "Q-vRoX3ziFDo"
      },
      "outputs": [],
      "source": [
        "%%bash\n",
        "# Filtrar do arquivo VCF as variantes com qualidade ruim\n",
        "vcffilter -f \"QUAL > 30\" freebayes/patient1-variants.vcf > freebayes/patient1-variants-filtered.vcf"
      ]
    },
    {
      "cell_type": "markdown",
      "metadata": {
        "id": "ugYbOK761Mm7"
      },
      "source": [
        "Pronto, o arquivo .vcf salvo na pasta freebayes/ contem todas as variantes identificadas na amostra do patient1.  \n",
        "**Exercício**:   \n",
        "- Faça os mesmos procedimentos, agora para as sequências do patient2. Ao finalizar, compare o conjunto de variantes identificadas nos dois pacientes.  \n",
        "- As variantes são iguais? O que isso significa biologicamente falando?  \n",
        "- As Mycobacterium tuberculosis encontradas nos dois pacientes são as mesmas (clonais) ou são diferentes?"
      ]
    },
    {
      "cell_type": "code",
      "execution_count": null,
      "metadata": {
        "id": "JI_wbd0y2j49"
      },
      "outputs": [],
      "source": [
        "%%bash\n",
        "#1. Gerar o relatorio fastq\n",
        "fastqc -o fastqc/ patient2_R1.fastq.gz patient2_R2.fastq.gz\n",
        "\n",
        "#2. tirar as nao-sequencias e partes curtas\n",
        "cutadapt \\\n",
        "  -u 5 -U 5 \\\n",
        "  -u -5 -U -5 \\\n",
        "  -m 90 \\\n",
        "  -o cutadapt/patient2-trimmed_R1.fastq.gz \\\n",
        "  -p cutadapt/patient2-trimmed_R2.fastq.gz \\\n",
        "  patient2_R1.fastq.gz \\\n",
        "  patient2_R2.fastq.gz"
      ]
    },
    {
      "cell_type": "code",
      "execution_count": null,
      "metadata": {},
      "outputs": [],
      "source": [
        "%%bash\n",
        "#3. Fazer o alinhamento\n",
        "bwa mem bwa/reference.fasta cutadapt/patient2-trimmed_R1.fastq.gz \\\n",
        "    cutadapt/patient2-trimmed_R2.fastq.gz | \\\n",
        "samtools sort -o  bwa/patient2.bam "
      ]
    },
    {
      "cell_type": "code",
      "execution_count": 24,
      "metadata": {},
      "outputs": [],
      "source": [
        "%%bash\n",
        "#4. Fazer a chamada de variantes\n",
        "freebayes -f bwa/reference.fasta -p 1 bwa/patient2.bam -v freebayes/patient2-variants.vcf\n",
        "vcffilter -f \"QUAL > 30\" freebayes/patient2-variants.vcf > freebayes/patient2-variants-filtered.vcf"
      ]
    },
    {
      "cell_type": "markdown",
      "metadata": {},
      "source": [
        "Nao Consegui mapear o paciente 1. :("
      ]
    }
  ],
  "metadata": {
    "colab": {
      "provenance": []
    },
    "kernelspec": {
      "display_name": "env",
      "language": "python",
      "name": "python3"
    },
    "language_info": {
      "codemirror_mode": {
        "name": "ipython",
        "version": 3
      },
      "file_extension": ".py",
      "mimetype": "text/x-python",
      "name": "python",
      "nbconvert_exporter": "python",
      "pygments_lexer": "ipython3",
      "version": "3.13.7"
    }
  },
  "nbformat": 4,
  "nbformat_minor": 0
}
